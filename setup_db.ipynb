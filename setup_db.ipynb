{
 "cells": [
  {
   "cell_type": "code",
   "execution_count": 1,
   "metadata": {
    "collapsed": true
   },
   "outputs": [],
   "source": [
    "import sqlite3\n",
    "import pandas as pd\n",
    "import os"
   ]
  },
  {
   "cell_type": "code",
   "execution_count": 2,
   "metadata": {
    "collapsed": false
   },
   "outputs": [],
   "source": [
    "class DB:\n",
    "    def __init__(self, db_path):\n",
    "        self.db_path = db_path\n",
    "        self.conn = sqlite3.connect(self.db_path)\n",
    "        self.c = self.conn.cursor()\n",
    "        path = \"db/scripts/\"\n",
    "        self.setup_scripts_paths = [\"create_tables.sql\",\n",
    "                                   \"create_views.sql\",\n",
    "                                   \"create_triggers.sql\"]\n",
    "        self.setup_scripts_paths = [path + i for i in self.setup_scripts_paths]\n",
    "        \n",
    "    def close(self):\n",
    "        self.conn.close()\n",
    "        \n",
    "    \n",
    "    def remove_db_file(self):\n",
    "        self.close()\n",
    "        os.remove(self.db_path)\n",
    "        \n",
    "    def run_setup_scripts(self):\n",
    "        \n",
    "        for path in self.setup_scripts_paths:\n",
    "            with open(path) as f:\n",
    "                query = f.readlines()\n",
    "                self.c.executescript(''.join(query))\n",
    "                \n",
    "                \n",
    "    def show_tables(self):\n",
    "        results = self.c.execute(\"select name from sqlite_master where type = 'table';\")\n",
    "        return results.fetchall()\n",
    "    \n",
    "    def select_all(self, table_name):\n",
    "        results = self.c.execute(\"select * from {0};\".format((table_name)))\n",
    "        columns = [i[0] for i in self.c.description]\n",
    "        return columns, results.fetchall()\n",
    "    \n",
    "    def _insert_from_data_frame(self, table_name, df):\n",
    "        df.to_sql(table_name, self.conn, if_exists = \"append\", index=False)\n",
    "        \n",
    "    def _load_initial_data_from_file(self, initial_data_path = \"db/initial_data/initial_data.xlsx\"):\n",
    "        initial_data_path = \"db/initial_data/initial_data.xlsx\"\n",
    "        sheets_names = [\"users\", \"jobs\", \"requests\", \"distances\", \"cities\"]\n",
    "        \n",
    "        xls = pd.ExcelFile(initial_data_path)\n",
    "\n",
    "        self._initial_data = {i: None for i in sheets_names}\n",
    "        for sheet_name in sheets_names:\n",
    "            self._initial_data[sheet_name] = xls.parse(sheet_name)\n",
    "    \n",
    "    def insert_initial_data(self):\n",
    "        self._load_initial_data_from_file()\n",
    "        \n",
    "        for table_name, data in self._initial_data.items():\n",
    "            self._insert_from_data_frame(table_name, data)\n",
    "\n"
   ]
  },
  {
   "cell_type": "code",
   "execution_count": 3,
   "metadata": {
    "collapsed": false
   },
   "outputs": [
    {
     "data": {
      "text/plain": [
       "['db/scripts/create_tables.sql',\n",
       " 'db/scripts/create_views.sql',\n",
       " 'db/scripts/create_triggers.sql']"
      ]
     },
     "execution_count": 3,
     "metadata": {},
     "output_type": "execute_result"
    }
   ],
   "source": [
    "db = DB(\"db/test_db.db\")\n",
    "db.setup_scripts_paths"
   ]
  },
  {
   "cell_type": "code",
   "execution_count": 4,
   "metadata": {
    "collapsed": true
   },
   "outputs": [],
   "source": [
    "db.run_setup_scripts()"
   ]
  },
  {
   "cell_type": "code",
   "execution_count": 5,
   "metadata": {
    "collapsed": false
   },
   "outputs": [
    {
     "data": {
      "text/plain": [
       "[('users',),\n",
       " ('jobs',),\n",
       " ('requests',),\n",
       " ('distances',),\n",
       " ('results',),\n",
       " ('cities',),\n",
       " ('execution_logs',),\n",
       " ('working_days',)]"
      ]
     },
     "execution_count": 5,
     "metadata": {},
     "output_type": "execute_result"
    }
   ],
   "source": [
    "db.show_tables()"
   ]
  },
  {
   "cell_type": "code",
   "execution_count": 6,
   "metadata": {
    "collapsed": false,
    "scrolled": true
   },
   "outputs": [
    {
     "data": {
      "text/plain": [
       "(['city_id', 'city_name'], [])"
      ]
     },
     "execution_count": 6,
     "metadata": {},
     "output_type": "execute_result"
    }
   ],
   "source": [
    "db.select_all(\"cities\")"
   ]
  },
  {
   "cell_type": "code",
   "execution_count": 7,
   "metadata": {
    "collapsed": false
   },
   "outputs": [],
   "source": [
    "db._load_initial_data_from_file()\n",
    "# db._initial_data"
   ]
  },
  {
   "cell_type": "code",
   "execution_count": 8,
   "metadata": {
    "collapsed": false
   },
   "outputs": [],
   "source": [
    "db.insert_initial_data()"
   ]
  },
  {
   "cell_type": "code",
   "execution_count": 9,
   "metadata": {
    "collapsed": false
   },
   "outputs": [
    {
     "data": {
      "text/plain": [
       "(['user_id', 'name', 'password', 'admin', 'active', 'time_created'],\n",
       " [(1, 'adam', 'pass1', 0, 1, '2019-10-10 00:00:00'),\n",
       "  (2, 'tom', 'pass2', 0, 1, '2019-10-10 00:00:00'),\n",
       "  (3, 'admin', 'admin', 1, 1, '2019-10-10 00:00:00')])"
      ]
     },
     "execution_count": 9,
     "metadata": {},
     "output_type": "execute_result"
    }
   ],
   "source": [
    "db.select_all(\"users\")"
   ]
  },
  {
   "cell_type": "code",
   "execution_count": 10,
   "metadata": {
    "collapsed": true
   },
   "outputs": [],
   "source": [
    "db.close()"
   ]
  },
  {
   "cell_type": "code",
   "execution_count": 11,
   "metadata": {
    "collapsed": true
   },
   "outputs": [],
   "source": [
    "db.remove_db_file()"
   ]
  },
  {
   "cell_type": "code",
   "execution_count": null,
   "metadata": {
    "collapsed": true
   },
   "outputs": [],
   "source": []
  }
 ],
 "metadata": {
  "anaconda-cloud": {},
  "kernelspec": {
   "display_name": "Python [conda env:Anaconda3]",
   "language": "python",
   "name": "conda-env-Anaconda3-py"
  },
  "language_info": {
   "codemirror_mode": {
    "name": "ipython",
    "version": 3
   },
   "file_extension": ".py",
   "mimetype": "text/x-python",
   "name": "python",
   "nbconvert_exporter": "python",
   "pygments_lexer": "ipython3",
   "version": "3.5.2"
  }
 },
 "nbformat": 4,
 "nbformat_minor": 1
}
