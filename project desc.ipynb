{
 "cells": [
  {
   "cell_type": "markdown",
   "metadata": {},
   "source": [
    "### Flixbus - project description"
   ]
  },
  {
   "cell_type": "markdown",
   "metadata": {},
   "source": [
    "3 main parts:\n",
    "\n",
    "- Web-scraping module\n",
    "- Database\n",
    "- Web app"
   ]
  },
  {
   "cell_type": "markdown",
   "metadata": {},
   "source": [
    "#### Web-scraper:\n",
    " \n",
    "- Is run at specified times\n",
    "- Gets parameters of websites to scrape from the database\n",
    "- After getting parameters it scrapes the pages specified, prepares them for correct format and commits the scraping results to the database\n",
    "\n",
    "#### Database:\n",
    "\n",
    "Stores 4 kinds of informations:\n",
    "- Authentication management - logins and passwords\n",
    "- Logs - from scraping execution, updates of parameters from the users and about users logins\n",
    "- Scraping results - from executed scrapers\n",
    "- Dictionaries for scraping results \n",
    "\n",
    "#### App:\n",
    "\n",
    "Has Views:\n",
    "\n",
    "- Authentication (normal user and admins)\n",
    "- Add new parameters to execution (as a form or in csv/excel format)\n",
    "- Fetch the results of previously defined jobs\n",
    "- Admin view (when logged in as admin)\n",
    "\n",
    "\n",
    "Admin view:\n",
    "- get all results created up to date\n",
    "- shut down a job \n",
    "- show all jobs defined\n",
    "- show all logs\n",
    "\n"
   ]
  },
  {
   "cell_type": "markdown",
   "metadata": {},
   "source": [
    "#### Web-scraper -> database:\n",
    "\n",
    "- Add all results generated in one run\n",
    "- Add appropriate logs\n",
    "\n",
    "#### Database -> web-scraper:\n",
    "\n",
    "- Pass parameters list to execute\n",
    "\n",
    "\n",
    "#### Database -> web app:\n",
    "\n",
    "- Login authorisation\n",
    "- Pass requested tables (aggregated to views or raw)\n",
    "\n",
    "#### Web app -> database:\n",
    "\n",
    "- Add new execution parameters (jobs)\n",
    "\n"
   ]
  },
  {
   "cell_type": "markdown",
   "metadata": {},
   "source": [
    "https://stackoverflow.com/questions/28885827/how-to-reverse-engineer-data-models-from-an-existing-database-in-python-and-sql/33379254 - zmiana na sqlalchemy z kodu sql"
   ]
  },
  {
   "cell_type": "code",
   "execution_count": null,
   "metadata": {
    "collapsed": true
   },
   "outputs": [],
   "source": []
  }
 ],
 "metadata": {
  "anaconda-cloud": {},
  "kernelspec": {
   "display_name": "Python [conda env:Anaconda3]",
   "language": "python",
   "name": "conda-env-Anaconda3-py"
  },
  "language_info": {
   "codemirror_mode": {
    "name": "ipython",
    "version": 3
   },
   "file_extension": ".py",
   "mimetype": "text/x-python",
   "name": "python",
   "nbconvert_exporter": "python",
   "pygments_lexer": "ipython3",
   "version": "3.5.2"
  }
 },
 "nbformat": 4,
 "nbformat_minor": 1
}
