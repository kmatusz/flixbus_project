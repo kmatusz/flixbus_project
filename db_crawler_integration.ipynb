{
 "cells": [
  {
   "cell_type": "code",
   "execution_count": 43,
   "metadata": {},
   "outputs": [],
   "source": [
    "from crawl import Crawler\n",
    "from parse import find_all_safely\n",
    "import pandas as pd\n",
    "import numpy as np\n",
    "import os\n",
    "from setup_db import DB, setup_db, cursor_as_df, execute_to_df"
   ]
  },
  {
   "cell_type": "code",
   "execution_count": 2,
   "metadata": {},
   "outputs": [],
   "source": [
    "# db = setup_db()"
   ]
  },
  {
   "cell_type": "code",
   "execution_count": 3,
   "metadata": {},
   "outputs": [],
   "source": [
    "path = \"db/test_db.db\"\n",
    "db = DB(path)\n",
    "db.run_setup_scripts()\n",
    "db.insert_initial_data()\n"
   ]
  },
  {
   "cell_type": "code",
   "execution_count": 3,
   "metadata": {},
   "outputs": [],
   "source": [
    "# db.close()"
   ]
  },
  {
   "cell_type": "code",
   "execution_count": 4,
   "metadata": {},
   "outputs": [
    {
     "data": {
      "text/html": [
       "<div>\n",
       "<style scoped>\n",
       "    .dataframe tbody tr th:only-of-type {\n",
       "        vertical-align: middle;\n",
       "    }\n",
       "\n",
       "    .dataframe tbody tr th {\n",
       "        vertical-align: top;\n",
       "    }\n",
       "\n",
       "    .dataframe thead th {\n",
       "        text-align: right;\n",
       "    }\n",
       "</style>\n",
       "<table border=\"1\" class=\"dataframe\">\n",
       "  <thead>\n",
       "    <tr style=\"text-align: right;\">\n",
       "      <th></th>\n",
       "      <th>job_id</th>\n",
       "      <th>user_created</th>\n",
       "      <th>active</th>\n",
       "      <th>time_created</th>\n",
       "      <th>last_run</th>\n",
       "      <th>job_name</th>\n",
       "    </tr>\n",
       "  </thead>\n",
       "  <tbody>\n",
       "    <tr>\n",
       "      <th>0</th>\n",
       "      <td>1</td>\n",
       "      <td>1</td>\n",
       "      <td>1</td>\n",
       "      <td>2019-10-10 00:00:00</td>\n",
       "      <td>None</td>\n",
       "      <td>test_job</td>\n",
       "    </tr>\n",
       "  </tbody>\n",
       "</table>\n",
       "</div>"
      ],
      "text/plain": [
       "   job_id  user_created  active         time_created last_run  job_name\n",
       "0       1             1       1  2019-10-10 00:00:00     None  test_job"
      ]
     },
     "execution_count": 4,
     "metadata": {},
     "output_type": "execute_result"
    }
   ],
   "source": [
    "db.select_all(\"jobs\")"
   ]
  },
  {
   "cell_type": "code",
   "execution_count": 5,
   "metadata": {},
   "outputs": [
    {
     "data": {
      "text/html": [
       "<div>\n",
       "<style scoped>\n",
       "    .dataframe tbody tr th:only-of-type {\n",
       "        vertical-align: middle;\n",
       "    }\n",
       "\n",
       "    .dataframe tbody tr th {\n",
       "        vertical-align: top;\n",
       "    }\n",
       "\n",
       "    .dataframe thead th {\n",
       "        text-align: right;\n",
       "    }\n",
       "</style>\n",
       "<table border=\"1\" class=\"dataframe\">\n",
       "  <thead>\n",
       "    <tr style=\"text-align: right;\">\n",
       "      <th></th>\n",
       "      <th>request_id</th>\n",
       "      <th>job_id</th>\n",
       "      <th>start_city</th>\n",
       "      <th>end_city</th>\n",
       "      <th>date</th>\n",
       "    </tr>\n",
       "  </thead>\n",
       "  <tbody>\n",
       "    <tr>\n",
       "      <th>0</th>\n",
       "      <td>1</td>\n",
       "      <td>1</td>\n",
       "      <td>1915</td>\n",
       "      <td>1815</td>\n",
       "      <td>2020-01-02 00:00:00</td>\n",
       "    </tr>\n",
       "    <tr>\n",
       "      <th>1</th>\n",
       "      <td>2</td>\n",
       "      <td>1</td>\n",
       "      <td>1915</td>\n",
       "      <td>7588</td>\n",
       "      <td>2020-01-02 00:00:00</td>\n",
       "    </tr>\n",
       "    <tr>\n",
       "      <th>2</th>\n",
       "      <td>3</td>\n",
       "      <td>1</td>\n",
       "      <td>1915</td>\n",
       "      <td>7588</td>\n",
       "      <td>2020-01-03 00:00:00</td>\n",
       "    </tr>\n",
       "  </tbody>\n",
       "</table>\n",
       "</div>"
      ],
      "text/plain": [
       "   request_id  job_id  start_city  end_city                 date\n",
       "0           1       1        1915      1815  2020-01-02 00:00:00\n",
       "1           2       1        1915      7588  2020-01-02 00:00:00\n",
       "2           3       1        1915      7588  2020-01-03 00:00:00"
      ]
     },
     "execution_count": 5,
     "metadata": {},
     "output_type": "execute_result"
    }
   ],
   "source": [
    "db.select_all(\"requests\")"
   ]
  },
  {
   "cell_type": "code",
   "execution_count": 264,
   "metadata": {},
   "outputs": [
    {
     "data": {
      "text/plain": [
       "[('users',),\n",
       " ('jobs',),\n",
       " ('requests',),\n",
       " ('distances',),\n",
       " ('results',),\n",
       " ('cities',),\n",
       " ('execution_logs',),\n",
       " ('working_days',)]"
      ]
     },
     "execution_count": 264,
     "metadata": {},
     "output_type": "execute_result"
    }
   ],
   "source": [
    "db.show_tables()"
   ]
  },
  {
   "cell_type": "code",
   "execution_count": 265,
   "metadata": {},
   "outputs": [
    {
     "data": {
      "text/html": [
       "<div>\n",
       "<style scoped>\n",
       "    .dataframe tbody tr th:only-of-type {\n",
       "        vertical-align: middle;\n",
       "    }\n",
       "\n",
       "    .dataframe tbody tr th {\n",
       "        vertical-align: top;\n",
       "    }\n",
       "\n",
       "    .dataframe thead th {\n",
       "        text-align: right;\n",
       "    }\n",
       "</style>\n",
       "<table border=\"1\" class=\"dataframe\">\n",
       "  <thead>\n",
       "    <tr style=\"text-align: right;\">\n",
       "      <th></th>\n",
       "      <th>request_id</th>\n",
       "      <th>time_created</th>\n",
       "      <th>start_city</th>\n",
       "      <th>end_city</th>\n",
       "      <th>time</th>\n",
       "      <th>date</th>\n",
       "      <th>price</th>\n",
       "      <th>changes_number</th>\n",
       "    </tr>\n",
       "  </thead>\n",
       "  <tbody>\n",
       "  </tbody>\n",
       "</table>\n",
       "</div>"
      ],
      "text/plain": [
       "Empty DataFrame\n",
       "Columns: [request_id, time_created, start_city, end_city, time, date, price, changes_number]\n",
       "Index: []"
      ]
     },
     "execution_count": 265,
     "metadata": {},
     "output_type": "execute_result"
    }
   ],
   "source": [
    "db.select_all(\"results\")"
   ]
  },
  {
   "cell_type": "markdown",
   "metadata": {},
   "source": [
    "SELECT \n",
    "request_id,\n",
    "strftime('%d.%m.%Y',t2.time_created) as rideDate,\n",
    "t2.start_city as departureCity,\n",
    "t2.end_city as arrivalCity\n",
    "FROM jobs as t1\n",
    "left join requests t2 ON t1.job_id = t2.job_id\n",
    "WHERE t1.active = 1\n"
   ]
  },
  {
   "cell_type": "code",
   "execution_count": 292,
   "metadata": {},
   "outputs": [],
   "source": [
    "params_from_db = db.c.execute('''SELECT \n",
    "t2.request_id,\n",
    "strftime(\"%d.%m.%Y\",t2.date) as rideDate,\n",
    "t2.start_city as departureCity,\n",
    "t2.end_city as arrivalCity\n",
    "FROM jobs as t1\n",
    "left join requests as t2 ON t1.job_id = t2.job_id\n",
    "WHERE t1.active = 1''')\n",
    "colnames = [i[0] for i in params_from_db.description]\n",
    "values = params_from_db.fetchall()"
   ]
  },
  {
   "cell_type": "code",
   "execution_count": 293,
   "metadata": {
    "scrolled": true
   },
   "outputs": [
    {
     "name": "stdout",
     "output_type": "stream",
     "text": [
      "['request_id', 'rideDate', 'departureCity', 'arrivalCity']\n",
      "[(1, '02.01.2020', 1915, 1815), (2, '02.01.2020', 1915, 7588), (3, '03.01.2020', 1915, 7588)]\n"
     ]
    }
   ],
   "source": [
    "print(colnames)\n",
    "print(values)"
   ]
  },
  {
   "cell_type": "code",
   "execution_count": 294,
   "metadata": {},
   "outputs": [],
   "source": [
    "constant_search_params = {\n",
    "    \"adult\": \"1\",\n",
    "    \"_locale\": \"pl\"\n",
    "}\n"
   ]
  },
  {
   "cell_type": "code",
   "execution_count": 295,
   "metadata": {},
   "outputs": [
    {
     "data": {
      "text/plain": [
       "[(1, '02.01.2020', 1915, 1815),\n",
       " (2, '02.01.2020', 1915, 7588),\n",
       " (3, '03.01.2020', 1915, 7588)]"
      ]
     },
     "execution_count": 295,
     "metadata": {},
     "output_type": "execute_result"
    }
   ],
   "source": [
    "values"
   ]
  },
  {
   "cell_type": "code",
   "execution_count": 318,
   "metadata": {},
   "outputs": [
    {
     "data": {
      "text/plain": [
       "[1, 2, 3]"
      ]
     },
     "execution_count": 318,
     "metadata": {},
     "output_type": "execute_result"
    }
   ],
   "source": [
    "params_list = []\n",
    "for single_params in values:\n",
    "    params_list.append({\"rideDate\": single_params[1],\n",
    "                       \"departureCity\": single_params[2],\n",
    "                       \"arrivalCity\": single_params[3]})\n",
    "    \n",
    "params_list = [{**i, **constant_search_params} for i in params_list]\n",
    "request_id_list = [i[0] for i in values]"
   ]
  },
  {
   "cell_type": "code",
   "execution_count": 299,
   "metadata": {
    "scrolled": true
   },
   "outputs": [
    {
     "data": {
      "text/plain": [
       "[{'rideDate': '02.01.2020',\n",
       "  'departureCity': 1915,\n",
       "  'arrivalCity': 1815,\n",
       "  'adult': '1',\n",
       "  '_locale': 'pl'},\n",
       " {'rideDate': '02.01.2020',\n",
       "  'departureCity': 1915,\n",
       "  'arrivalCity': 7588,\n",
       "  'adult': '1',\n",
       "  '_locale': 'pl'},\n",
       " {'rideDate': '03.01.2020',\n",
       "  'departureCity': 1915,\n",
       "  'arrivalCity': 7588,\n",
       "  'adult': '1',\n",
       "  '_locale': 'pl'}]"
      ]
     },
     "execution_count": 299,
     "metadata": {},
     "output_type": "execute_result"
    }
   ],
   "source": [
    "params_list"
   ]
  },
  {
   "cell_type": "code",
   "execution_count": 319,
   "metadata": {},
   "outputs": [],
   "source": [
    "current_params = params_list[1]\n",
    "current_request_id = request_id_list[1]"
   ]
  },
  {
   "cell_type": "code",
   "execution_count": 320,
   "metadata": {},
   "outputs": [],
   "source": [
    "crawler = Crawler(current_params)\n",
    "crawler.get_all()\n",
    "results_pd_raw  = crawler.get_pandas_df()"
   ]
  },
  {
   "cell_type": "code",
   "execution_count": 321,
   "metadata": {},
   "outputs": [],
   "source": [
    "results_pd = results_pd_raw.copy()"
   ]
  },
  {
   "cell_type": "code",
   "execution_count": 322,
   "metadata": {},
   "outputs": [
    {
     "data": {
      "text/html": [
       "<div>\n",
       "<style scoped>\n",
       "    .dataframe tbody tr th:only-of-type {\n",
       "        vertical-align: middle;\n",
       "    }\n",
       "\n",
       "    .dataframe tbody tr th {\n",
       "        vertical-align: top;\n",
       "    }\n",
       "\n",
       "    .dataframe thead th {\n",
       "        text-align: right;\n",
       "    }\n",
       "</style>\n",
       "<table border=\"1\" class=\"dataframe\">\n",
       "  <thead>\n",
       "    <tr style=\"text-align: right;\">\n",
       "      <th></th>\n",
       "      <th>departure_time</th>\n",
       "      <th>arrival_time</th>\n",
       "      <th>departure_station</th>\n",
       "      <th>arrival_station</th>\n",
       "      <th>price</th>\n",
       "    </tr>\n",
       "  </thead>\n",
       "  <tbody>\n",
       "    <tr>\n",
       "      <th>0</th>\n",
       "      <td>00:30</td>\n",
       "      <td>04:00</td>\n",
       "      <td>Kraków MDA</td>\n",
       "      <td>Łódź Fabryczna</td>\n",
       "      <td>69,99</td>\n",
       "    </tr>\n",
       "    <tr>\n",
       "      <th>1</th>\n",
       "      <td>07:05</td>\n",
       "      <td>11:25</td>\n",
       "      <td>Kraków MDA</td>\n",
       "      <td>Łódź Fabryczna</td>\n",
       "      <td>69,99</td>\n",
       "    </tr>\n",
       "    <tr>\n",
       "      <th>2</th>\n",
       "      <td>12:00</td>\n",
       "      <td>16:00</td>\n",
       "      <td>Kraków MDA</td>\n",
       "      <td>Łódź Fabryczna</td>\n",
       "      <td>69,99</td>\n",
       "    </tr>\n",
       "    <tr>\n",
       "      <th>3</th>\n",
       "      <td>15:10</td>\n",
       "      <td>19:25</td>\n",
       "      <td>Kraków MDA</td>\n",
       "      <td>Łódź Fabryczna</td>\n",
       "      <td>69,99</td>\n",
       "    </tr>\n",
       "    <tr>\n",
       "      <th>4</th>\n",
       "      <td>19:15</td>\n",
       "      <td>23:50</td>\n",
       "      <td>Kraków MDA</td>\n",
       "      <td>Łódź Fabryczna</td>\n",
       "      <td>None</td>\n",
       "    </tr>\n",
       "    <tr>\n",
       "      <th>5</th>\n",
       "      <td>23:59</td>\n",
       "      <td>04:15</td>\n",
       "      <td>Kraków MDA</td>\n",
       "      <td>Łódź Fabryczna</td>\n",
       "      <td>45,99</td>\n",
       "    </tr>\n",
       "    <tr>\n",
       "      <th>6</th>\n",
       "      <td>00:30</td>\n",
       "      <td>04:00</td>\n",
       "      <td>Kraków MDA</td>\n",
       "      <td>Łódź Fabryczna</td>\n",
       "      <td>69,99</td>\n",
       "    </tr>\n",
       "  </tbody>\n",
       "</table>\n",
       "</div>"
      ],
      "text/plain": [
       "  departure_time arrival_time departure_station arrival_station  price\n",
       "0          00:30        04:00        Kraków MDA  Łódź Fabryczna  69,99\n",
       "1          07:05        11:25        Kraków MDA  Łódź Fabryczna  69,99\n",
       "2          12:00        16:00        Kraków MDA  Łódź Fabryczna  69,99\n",
       "3          15:10        19:25        Kraków MDA  Łódź Fabryczna  69,99\n",
       "4          19:15        23:50        Kraków MDA  Łódź Fabryczna   None\n",
       "5          23:59        04:15        Kraków MDA  Łódź Fabryczna  45,99\n",
       "6          00:30        04:00        Kraków MDA  Łódź Fabryczna  69,99"
      ]
     },
     "execution_count": 322,
     "metadata": {},
     "output_type": "execute_result"
    }
   ],
   "source": [
    "results_pd_raw"
   ]
  },
  {
   "cell_type": "code",
   "execution_count": 350,
   "metadata": {},
   "outputs": [],
   "source": [
    "class dfSanitizer:\n",
    "    def __init__(self, df):\n",
    "        self.df = df\n",
    "\n",
    "#         self.sanitize_station_vec = np.vectorize(sanitize_station)\n",
    "        self.sanitize_price_vec = np.vectorize(sanitize_price)\n",
    "#         self.sanitize_time_vec = np.vectorize(sanitize_time)\n",
    "    \n",
    "    def sanitize_price(self, x):\n",
    "        if x is None:\n",
    "            return None\n",
    "\n",
    "        try:\n",
    "            stripped = re.sub(\"[^\\d\\,]\", \"\", x) # remove all characters except numbers and commas\n",
    "\n",
    "            if len(stripped)>10:\n",
    "                return None\n",
    "\n",
    "            stripped_comma = stripped.replace(\",\", \".\")\n",
    "\n",
    "            number = float(stripped_comma)\n",
    "\n",
    "        except:\n",
    "            return None\n",
    "\n",
    "        return number\n",
    "    "
   ]
  },
  {
   "cell_type": "code",
   "execution_count": 352,
   "metadata": {},
   "outputs": [
    {
     "data": {
      "text/plain": [
       "<__main__.dfSanitizer at 0x1d6a158ea88>"
      ]
     },
     "execution_count": 352,
     "metadata": {},
     "output_type": "execute_result"
    }
   ],
   "source": [
    "a = dfSanitizer(1)\n",
    "a"
   ]
  },
  {
   "cell_type": "code",
   "execution_count": 353,
   "metadata": {},
   "outputs": [
    {
     "data": {
      "text/plain": [
       "array(None, dtype=object)"
      ]
     },
     "execution_count": 353,
     "metadata": {},
     "output_type": "execute_result"
    }
   ],
   "source": [
    "a.sanitize_price_vec(10)"
   ]
  },
  {
   "cell_type": "code",
   "execution_count": 323,
   "metadata": {},
   "outputs": [],
   "source": [
    "def sanitize_price(x):\n",
    "    if x is None:\n",
    "        return None\n",
    "    \n",
    "    try:\n",
    "        stripped = re.sub(\"[^\\d\\,]\", \"\", x) # remove all characters except numbers and commas\n",
    "        \n",
    "        if len(stripped)>10:\n",
    "            return None\n",
    "\n",
    "        stripped_comma = stripped.replace(\",\", \".\")\n",
    "        \n",
    "        number = float(stripped_comma)\n",
    "    \n",
    "    except:\n",
    "        return None\n",
    "    \n",
    "    return number\n",
    "    "
   ]
  },
  {
   "cell_type": "code",
   "execution_count": 324,
   "metadata": {
    "scrolled": false
   },
   "outputs": [
    {
     "name": "stdout",
     "output_type": "stream",
     "text": [
      "True\n",
      "True\n",
      "True\n",
      "True\n",
      "True\n",
      "True\n",
      "True\n",
      "True\n"
     ]
    }
   ],
   "source": [
    "print(sanitize_price(\"65,94\") == 65.94)\n",
    "print(sanitize_price(\"65,a94\") == 65.94)\n",
    "print(sanitize_price(\"65,a94   \") == 65.94)\n",
    "print(sanitize_price(\"65,56,4\") is None)\n",
    "print(sanitize_price(None) is None)\n",
    "print(sanitize_price(\"54,\") == 54.0)\n",
    "print(sanitize_price(\",54\") == 0.54)\n",
    "print(sanitize_price(43) is None)"
   ]
  },
  {
   "cell_type": "code",
   "execution_count": 325,
   "metadata": {},
   "outputs": [],
   "source": [
    "def sanitize_station(station):\n",
    "    try:\n",
    "        return station.lstrip().rstrip()\n",
    "    except:\n",
    "        return None"
   ]
  },
  {
   "cell_type": "code",
   "execution_count": 326,
   "metadata": {
    "scrolled": true
   },
   "outputs": [
    {
     "name": "stdout",
     "output_type": "stream",
     "text": [
      "True\n",
      "True\n",
      "True\n",
      "True\n",
      "True\n"
     ]
    }
   ],
   "source": [
    "print(sanitize_station(\"abc\") == \"abc\")\n",
    "print(sanitize_station(\"      abc\") == \"abc\")\n",
    "print(sanitize_station(\"abc   \") == \"abc\")\n",
    "print(sanitize_station(1) is None)\n",
    "print(sanitize_station(None) is None)"
   ]
  },
  {
   "cell_type": "code",
   "execution_count": 327,
   "metadata": {},
   "outputs": [],
   "source": [
    "def sanitize_time(x):\n",
    "    if x is None:\n",
    "        return None\n",
    "    \n",
    "    try:\n",
    "        stripped = re.sub(\"[^\\d\\:]\", \"\", x) # remove all characters except numbers and commas\n",
    "        \n",
    "        if len(stripped) != 5:\n",
    "            return None\n",
    "\n",
    "        if sum([i == \":\" for i in stripped]) != 1:\n",
    "            return None\n",
    "        \n",
    "    \n",
    "    except:\n",
    "        return None\n",
    "    \n",
    "    return stripped"
   ]
  },
  {
   "cell_type": "code",
   "execution_count": 328,
   "metadata": {},
   "outputs": [
    {
     "name": "stdout",
     "output_type": "stream",
     "text": [
      "True\n",
      "True\n",
      "True\n",
      "True\n",
      "True\n",
      "True\n",
      "True\n"
     ]
    }
   ],
   "source": [
    "print(sanitize_time(\"09:50\") == \"09:50\")\n",
    "print(sanitize_time(\"09:50   \") == \"09:50\")\n",
    "print(sanitize_time(\"09:50aa\") == \"09:50\")\n",
    "print(sanitize_time(\"9:50:\") is None)\n",
    "print(sanitize_time(\"950\") is None)\n",
    "print(sanitize_time(\":\") is None)\n",
    "print(sanitize_time(\"9:50\") is None)"
   ]
  },
  {
   "cell_type": "code",
   "execution_count": 329,
   "metadata": {},
   "outputs": [],
   "source": [
    "\n",
    "sanitize_station_vec = np.vectorize(sanitize_station)\n",
    "sanitize_price_vec = np.vectorize(sanitize_price)\n",
    "sanitize_time_vec = np.vectorize(sanitize_time)"
   ]
  },
  {
   "cell_type": "code",
   "execution_count": 330,
   "metadata": {},
   "outputs": [],
   "source": [
    "results_pd.price = sanitize_price_vec(results_pd.price)\n",
    "results_pd.departure_station = sanitize_station_vec(results_pd.departure_station)\n",
    "results_pd.arrival_station = sanitize_station_vec(results_pd.arrival_station)\n",
    "results_pd.departure_time = sanitize_time_vec(results_pd.departure_time)\n",
    "results_pd.arrival_time = sanitize_time_vec(results_pd.arrival_time)\n",
    "results_pd[\"fully_booked\"] = results_pd.price.isna()"
   ]
  },
  {
   "cell_type": "code",
   "execution_count": 331,
   "metadata": {},
   "outputs": [],
   "source": [
    "results_pd[\"rideDate\"] = current_params[\"rideDate\"]\n",
    "results_pd[\"departure_datetime\"] = results_pd.rideDate + \" \" + results_pd.departure_time\n",
    "results_pd[\"departure_datetime\"] = pd.to_datetime(results_pd[\"departure_datetime\"])\n",
    "results_pd[\"arrival_datetime\"] = results_pd.rideDate + \" \" + results_pd.arrival_time\n",
    "results_pd[\"arrival_datetime\"] = pd.to_datetime(results_pd[\"arrival_datetime\"])\n"
   ]
  },
  {
   "cell_type": "code",
   "execution_count": 332,
   "metadata": {},
   "outputs": [],
   "source": [
    "mask = results_pd[\"arrival_datetime\"] < results_pd[\"departure_datetime\"]\n",
    "masked_df = results_pd[mask]"
   ]
  },
  {
   "cell_type": "code",
   "execution_count": 333,
   "metadata": {},
   "outputs": [],
   "source": [
    "results_pd.loc[mask, \"arrival_datetime\"] = masked_df.arrival_datetime + pd.DateOffset(days = 1)"
   ]
  },
  {
   "cell_type": "code",
   "execution_count": 339,
   "metadata": {},
   "outputs": [],
   "source": [
    "from datetime import datetime"
   ]
  },
  {
   "cell_type": "code",
   "execution_count": 342,
   "metadata": {},
   "outputs": [
    {
     "data": {
      "text/plain": [
       "datetime.datetime(2019, 12, 31, 13, 38, 0, 201930)"
      ]
     },
     "execution_count": 342,
     "metadata": {},
     "output_type": "execute_result"
    }
   ],
   "source": [
    "datetime.now()"
   ]
  },
  {
   "cell_type": "code",
   "execution_count": 346,
   "metadata": {},
   "outputs": [
    {
     "data": {
      "text/plain": [
       "{'rideDate': '02.01.2020',\n",
       " 'departureCity': 1915,\n",
       " 'arrivalCity': 7588,\n",
       " 'adult': '1',\n",
       " '_locale': 'pl'}"
      ]
     },
     "execution_count": 346,
     "metadata": {},
     "output_type": "execute_result"
    }
   ],
   "source": [
    "current_params"
   ]
  },
  {
   "cell_type": "code",
   "execution_count": 347,
   "metadata": {},
   "outputs": [],
   "source": [
    "results_pd[\"request_id\"] = current_request_id\n",
    "results_pd[\"time_created\"] = datetime.now()\n",
    "results_pd[\"departure_city\"] = current_params[\"departureCity\"]\n",
    "results_pd[\"arrival_city\"] = current_params[\"arrivalCity\"]"
   ]
  },
  {
   "cell_type": "code",
   "execution_count": 334,
   "metadata": {},
   "outputs": [
    {
     "data": {
      "text/html": [
       "<div>\n",
       "<style scoped>\n",
       "    .dataframe tbody tr th:only-of-type {\n",
       "        vertical-align: middle;\n",
       "    }\n",
       "\n",
       "    .dataframe tbody tr th {\n",
       "        vertical-align: top;\n",
       "    }\n",
       "\n",
       "    .dataframe thead th {\n",
       "        text-align: right;\n",
       "    }\n",
       "</style>\n",
       "<table border=\"1\" class=\"dataframe\">\n",
       "  <thead>\n",
       "    <tr style=\"text-align: right;\">\n",
       "      <th></th>\n",
       "      <th>request_id</th>\n",
       "      <th>time_created</th>\n",
       "      <th>start_city</th>\n",
       "      <th>end_city</th>\n",
       "      <th>time</th>\n",
       "      <th>date</th>\n",
       "      <th>price</th>\n",
       "      <th>changes_number</th>\n",
       "    </tr>\n",
       "  </thead>\n",
       "  <tbody>\n",
       "  </tbody>\n",
       "</table>\n",
       "</div>"
      ],
      "text/plain": [
       "Empty DataFrame\n",
       "Columns: [request_id, time_created, start_city, end_city, time, date, price, changes_number]\n",
       "Index: []"
      ]
     },
     "execution_count": 334,
     "metadata": {},
     "output_type": "execute_result"
    }
   ],
   "source": [
    "db.select_all(\"results\")"
   ]
  },
  {
   "cell_type": "code",
   "execution_count": 349,
   "metadata": {
    "scrolled": true
   },
   "outputs": [
    {
     "data": {
      "text/html": [
       "<div>\n",
       "<style scoped>\n",
       "    .dataframe tbody tr th:only-of-type {\n",
       "        vertical-align: middle;\n",
       "    }\n",
       "\n",
       "    .dataframe tbody tr th {\n",
       "        vertical-align: top;\n",
       "    }\n",
       "\n",
       "    .dataframe thead th {\n",
       "        text-align: right;\n",
       "    }\n",
       "</style>\n",
       "<table border=\"1\" class=\"dataframe\">\n",
       "  <thead>\n",
       "    <tr style=\"text-align: right;\">\n",
       "      <th></th>\n",
       "      <th>departure_time</th>\n",
       "      <th>arrival_time</th>\n",
       "      <th>departure_station</th>\n",
       "      <th>arrival_station</th>\n",
       "      <th>price</th>\n",
       "      <th>fully_booked</th>\n",
       "      <th>rideDate</th>\n",
       "      <th>departure_datetime</th>\n",
       "      <th>arrival_datetime</th>\n",
       "      <th>request_id</th>\n",
       "      <th>time_created</th>\n",
       "      <th>departure_city</th>\n",
       "      <th>arrival_city</th>\n",
       "    </tr>\n",
       "  </thead>\n",
       "  <tbody>\n",
       "    <tr>\n",
       "      <th>0</th>\n",
       "      <td>00:30</td>\n",
       "      <td>04:00</td>\n",
       "      <td>Kraków MDA</td>\n",
       "      <td>Łódź Fabryczna</td>\n",
       "      <td>69.99</td>\n",
       "      <td>False</td>\n",
       "      <td>02.01.2020</td>\n",
       "      <td>2020-02-01 00:30:00</td>\n",
       "      <td>2020-02-01 04:00:00</td>\n",
       "      <td>2</td>\n",
       "      <td>2019-12-31 13:39:37.571872</td>\n",
       "      <td>1915</td>\n",
       "      <td>7588</td>\n",
       "    </tr>\n",
       "    <tr>\n",
       "      <th>1</th>\n",
       "      <td>07:05</td>\n",
       "      <td>11:25</td>\n",
       "      <td>Kraków MDA</td>\n",
       "      <td>Łódź Fabryczna</td>\n",
       "      <td>69.99</td>\n",
       "      <td>False</td>\n",
       "      <td>02.01.2020</td>\n",
       "      <td>2020-02-01 07:05:00</td>\n",
       "      <td>2020-02-01 11:25:00</td>\n",
       "      <td>2</td>\n",
       "      <td>2019-12-31 13:39:37.571872</td>\n",
       "      <td>1915</td>\n",
       "      <td>7588</td>\n",
       "    </tr>\n",
       "    <tr>\n",
       "      <th>2</th>\n",
       "      <td>12:00</td>\n",
       "      <td>16:00</td>\n",
       "      <td>Kraków MDA</td>\n",
       "      <td>Łódź Fabryczna</td>\n",
       "      <td>69.99</td>\n",
       "      <td>False</td>\n",
       "      <td>02.01.2020</td>\n",
       "      <td>2020-02-01 12:00:00</td>\n",
       "      <td>2020-02-01 16:00:00</td>\n",
       "      <td>2</td>\n",
       "      <td>2019-12-31 13:39:37.571872</td>\n",
       "      <td>1915</td>\n",
       "      <td>7588</td>\n",
       "    </tr>\n",
       "    <tr>\n",
       "      <th>3</th>\n",
       "      <td>15:10</td>\n",
       "      <td>19:25</td>\n",
       "      <td>Kraków MDA</td>\n",
       "      <td>Łódź Fabryczna</td>\n",
       "      <td>69.99</td>\n",
       "      <td>False</td>\n",
       "      <td>02.01.2020</td>\n",
       "      <td>2020-02-01 15:10:00</td>\n",
       "      <td>2020-02-01 19:25:00</td>\n",
       "      <td>2</td>\n",
       "      <td>2019-12-31 13:39:37.571872</td>\n",
       "      <td>1915</td>\n",
       "      <td>7588</td>\n",
       "    </tr>\n",
       "    <tr>\n",
       "      <th>4</th>\n",
       "      <td>19:15</td>\n",
       "      <td>23:50</td>\n",
       "      <td>Kraków MDA</td>\n",
       "      <td>Łódź Fabryczna</td>\n",
       "      <td>NaN</td>\n",
       "      <td>True</td>\n",
       "      <td>02.01.2020</td>\n",
       "      <td>2020-02-01 19:15:00</td>\n",
       "      <td>2020-02-01 23:50:00</td>\n",
       "      <td>2</td>\n",
       "      <td>2019-12-31 13:39:37.571872</td>\n",
       "      <td>1915</td>\n",
       "      <td>7588</td>\n",
       "    </tr>\n",
       "    <tr>\n",
       "      <th>5</th>\n",
       "      <td>23:59</td>\n",
       "      <td>04:15</td>\n",
       "      <td>Kraków MDA</td>\n",
       "      <td>Łódź Fabryczna</td>\n",
       "      <td>45.99</td>\n",
       "      <td>False</td>\n",
       "      <td>02.01.2020</td>\n",
       "      <td>2020-02-01 23:59:00</td>\n",
       "      <td>2020-02-02 04:15:00</td>\n",
       "      <td>2</td>\n",
       "      <td>2019-12-31 13:39:37.571872</td>\n",
       "      <td>1915</td>\n",
       "      <td>7588</td>\n",
       "    </tr>\n",
       "    <tr>\n",
       "      <th>6</th>\n",
       "      <td>00:30</td>\n",
       "      <td>04:00</td>\n",
       "      <td>Kraków MDA</td>\n",
       "      <td>Łódź Fabryczna</td>\n",
       "      <td>69.99</td>\n",
       "      <td>False</td>\n",
       "      <td>02.01.2020</td>\n",
       "      <td>2020-02-01 00:30:00</td>\n",
       "      <td>2020-02-01 04:00:00</td>\n",
       "      <td>2</td>\n",
       "      <td>2019-12-31 13:39:37.571872</td>\n",
       "      <td>1915</td>\n",
       "      <td>7588</td>\n",
       "    </tr>\n",
       "  </tbody>\n",
       "</table>\n",
       "</div>"
      ],
      "text/plain": [
       "  departure_time arrival_time departure_station arrival_station  price  \\\n",
       "0          00:30        04:00        Kraków MDA  Łódź Fabryczna  69.99   \n",
       "1          07:05        11:25        Kraków MDA  Łódź Fabryczna  69.99   \n",
       "2          12:00        16:00        Kraków MDA  Łódź Fabryczna  69.99   \n",
       "3          15:10        19:25        Kraków MDA  Łódź Fabryczna  69.99   \n",
       "4          19:15        23:50        Kraków MDA  Łódź Fabryczna    NaN   \n",
       "5          23:59        04:15        Kraków MDA  Łódź Fabryczna  45.99   \n",
       "6          00:30        04:00        Kraków MDA  Łódź Fabryczna  69.99   \n",
       "\n",
       "   fully_booked    rideDate  departure_datetime    arrival_datetime  \\\n",
       "0         False  02.01.2020 2020-02-01 00:30:00 2020-02-01 04:00:00   \n",
       "1         False  02.01.2020 2020-02-01 07:05:00 2020-02-01 11:25:00   \n",
       "2         False  02.01.2020 2020-02-01 12:00:00 2020-02-01 16:00:00   \n",
       "3         False  02.01.2020 2020-02-01 15:10:00 2020-02-01 19:25:00   \n",
       "4          True  02.01.2020 2020-02-01 19:15:00 2020-02-01 23:50:00   \n",
       "5         False  02.01.2020 2020-02-01 23:59:00 2020-02-02 04:15:00   \n",
       "6         False  02.01.2020 2020-02-01 00:30:00 2020-02-01 04:00:00   \n",
       "\n",
       "   request_id               time_created  departure_city  arrival_city  \n",
       "0           2 2019-12-31 13:39:37.571872            1915          7588  \n",
       "1           2 2019-12-31 13:39:37.571872            1915          7588  \n",
       "2           2 2019-12-31 13:39:37.571872            1915          7588  \n",
       "3           2 2019-12-31 13:39:37.571872            1915          7588  \n",
       "4           2 2019-12-31 13:39:37.571872            1915          7588  \n",
       "5           2 2019-12-31 13:39:37.571872            1915          7588  \n",
       "6           2 2019-12-31 13:39:37.571872            1915          7588  "
      ]
     },
     "execution_count": 349,
     "metadata": {},
     "output_type": "execute_result"
    }
   ],
   "source": [
    "\n",
    "results_pd"
   ]
  },
  {
   "cell_type": "code",
   "execution_count": 337,
   "metadata": {},
   "outputs": [
    {
     "data": {
      "text/plain": [
       "{'Kraków MDA', 'Łódź Fabryczna'}"
      ]
     },
     "execution_count": 337,
     "metadata": {},
     "output_type": "execute_result"
    }
   ],
   "source": [
    "unique_stations = set(results_pd.departure_station.tolist() + results_pd.arrival_station.tolist())\n",
    "unique_stations"
   ]
  },
  {
   "cell_type": "code",
   "execution_count": 12,
   "metadata": {},
   "outputs": [
    {
     "data": {
      "text/plain": [
       "[  departure_time arrival_time departure_station     arrival_station   price\n",
       " 0          00:30        09:35        Kraków MDA              Gdańsk  129,99\n",
       " 1          00:30        11:45        Kraków MDA  Gdańsk Hala Olivia  129,98,\n",
       "   departure_time arrival_time departure_station arrival_station  price\n",
       " 0          00:30        04:00        Kraków MDA  Łódź Fabryczna  69,99\n",
       " 1          07:05        11:25        Kraków MDA  Łódź Fabryczna  69,99\n",
       " 2          12:00        16:00        Kraków MDA  Łódź Fabryczna   None\n",
       " 3          15:10        19:25        Kraków MDA  Łódź Fabryczna  69,99\n",
       " 4          19:15        23:50        Kraków MDA  Łódź Fabryczna   None\n",
       " 5          23:59        04:15        Kraków MDA  Łódź Fabryczna  45,99\n",
       " 6          00:30        04:00        Kraków MDA  Łódź Fabryczna  69,99,\n",
       "   departure_time arrival_time departure_station arrival_station  price\n",
       " 0          00:30        04:00        Kraków MDA  Łódź Fabryczna  69,99\n",
       " 1          07:05        11:25        Kraków MDA  Łódź Fabryczna  55,99\n",
       " 2          12:00        16:00        Kraków MDA  Łódź Fabryczna  59,99\n",
       " 3          15:10        19:25        Kraków MDA  Łódź Fabryczna  69,99\n",
       " 4          19:15        23:50        Kraków MDA  Łódź Fabryczna  69,99\n",
       " 5          23:59        04:15        Kraków MDA  Łódź Fabryczna  49,99\n",
       " 6          00:30        04:00        Kraków MDA  Łódź Fabryczna  55,99]"
      ]
     },
     "execution_count": 12,
     "metadata": {},
     "output_type": "execute_result"
    }
   ],
   "source": [
    "results = []\n",
    "for search_params in params_list:\n",
    "    crawler = Crawler(search_params)\n",
    "    crawler.get_all()\n",
    "    results.append(crawler.get_pandas_df())\n",
    "    \n",
    "results"
   ]
  },
  {
   "cell_type": "code",
   "execution_count": null,
   "metadata": {},
   "outputs": [],
   "source": []
  }
 ],
 "metadata": {
  "anaconda-cloud": {},
  "kernelspec": {
   "display_name": "Python 3",
   "language": "python",
   "name": "python3"
  },
  "language_info": {
   "codemirror_mode": {
    "name": "ipython",
    "version": 3
   },
   "file_extension": ".py",
   "mimetype": "text/x-python",
   "name": "python",
   "nbconvert_exporter": "python",
   "pygments_lexer": "ipython3",
   "version": "3.7.5"
  }
 },
 "nbformat": 4,
 "nbformat_minor": 1
}
