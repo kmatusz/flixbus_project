{
 "cells": [
  {
   "cell_type": "code",
   "execution_count": 1,
   "metadata": {},
   "outputs": [],
   "source": [
    "from crawl import Crawler\n",
    "from parse import find_all_safely\n",
    "import pandas as pd\n",
    "import os\n",
    "from setup_db import DB, setup_db, cursor_as_df, execute_to_df"
   ]
  },
  {
   "cell_type": "code",
   "execution_count": 2,
   "metadata": {},
   "outputs": [],
   "source": [
    "db = setup_db()"
   ]
  },
  {
   "cell_type": "code",
   "execution_count": 3,
   "metadata": {},
   "outputs": [],
   "source": [
    "# db.close()"
   ]
  },
  {
   "cell_type": "code",
   "execution_count": 4,
   "metadata": {},
   "outputs": [
    {
     "data": {
      "text/html": [
       "<div>\n",
       "<style scoped>\n",
       "    .dataframe tbody tr th:only-of-type {\n",
       "        vertical-align: middle;\n",
       "    }\n",
       "\n",
       "    .dataframe tbody tr th {\n",
       "        vertical-align: top;\n",
       "    }\n",
       "\n",
       "    .dataframe thead th {\n",
       "        text-align: right;\n",
       "    }\n",
       "</style>\n",
       "<table border=\"1\" class=\"dataframe\">\n",
       "  <thead>\n",
       "    <tr style=\"text-align: right;\">\n",
       "      <th></th>\n",
       "      <th>job_id</th>\n",
       "      <th>user_created</th>\n",
       "      <th>active</th>\n",
       "      <th>time_created</th>\n",
       "      <th>last_run</th>\n",
       "      <th>job_name</th>\n",
       "    </tr>\n",
       "  </thead>\n",
       "  <tbody>\n",
       "    <tr>\n",
       "      <th>0</th>\n",
       "      <td>1</td>\n",
       "      <td>1</td>\n",
       "      <td>1</td>\n",
       "      <td>2019-10-10 00:00:00</td>\n",
       "      <td>None</td>\n",
       "      <td>test_job</td>\n",
       "    </tr>\n",
       "  </tbody>\n",
       "</table>\n",
       "</div>"
      ],
      "text/plain": [
       "   job_id  user_created  active         time_created last_run  job_name\n",
       "0       1             1       1  2019-10-10 00:00:00     None  test_job"
      ]
     },
     "execution_count": 4,
     "metadata": {},
     "output_type": "execute_result"
    }
   ],
   "source": [
    "db.select_all(\"jobs\")"
   ]
  },
  {
   "cell_type": "code",
   "execution_count": 5,
   "metadata": {},
   "outputs": [
    {
     "data": {
      "text/html": [
       "<div>\n",
       "<style scoped>\n",
       "    .dataframe tbody tr th:only-of-type {\n",
       "        vertical-align: middle;\n",
       "    }\n",
       "\n",
       "    .dataframe tbody tr th {\n",
       "        vertical-align: top;\n",
       "    }\n",
       "\n",
       "    .dataframe thead th {\n",
       "        text-align: right;\n",
       "    }\n",
       "</style>\n",
       "<table border=\"1\" class=\"dataframe\">\n",
       "  <thead>\n",
       "    <tr style=\"text-align: right;\">\n",
       "      <th></th>\n",
       "      <th>request_id</th>\n",
       "      <th>job_id</th>\n",
       "      <th>start_city</th>\n",
       "      <th>end_city</th>\n",
       "      <th>date</th>\n",
       "    </tr>\n",
       "  </thead>\n",
       "  <tbody>\n",
       "    <tr>\n",
       "      <th>0</th>\n",
       "      <td>1</td>\n",
       "      <td>1</td>\n",
       "      <td>1915</td>\n",
       "      <td>1815</td>\n",
       "      <td>2020-01-02 00:00:00</td>\n",
       "    </tr>\n",
       "    <tr>\n",
       "      <th>1</th>\n",
       "      <td>2</td>\n",
       "      <td>1</td>\n",
       "      <td>1915</td>\n",
       "      <td>7588</td>\n",
       "      <td>2020-01-02 00:00:00</td>\n",
       "    </tr>\n",
       "    <tr>\n",
       "      <th>2</th>\n",
       "      <td>3</td>\n",
       "      <td>1</td>\n",
       "      <td>1915</td>\n",
       "      <td>7588</td>\n",
       "      <td>2020-01-03 00:00:00</td>\n",
       "    </tr>\n",
       "  </tbody>\n",
       "</table>\n",
       "</div>"
      ],
      "text/plain": [
       "   request_id  job_id  start_city  end_city                 date\n",
       "0           1       1        1915      1815  2020-01-02 00:00:00\n",
       "1           2       1        1915      7588  2020-01-02 00:00:00\n",
       "2           3       1        1915      7588  2020-01-03 00:00:00"
      ]
     },
     "execution_count": 5,
     "metadata": {},
     "output_type": "execute_result"
    }
   ],
   "source": [
    "db.select_all(\"requests\")"
   ]
  },
  {
   "cell_type": "markdown",
   "metadata": {},
   "source": [
    "SELECT \n",
    "strftime('%d.%m.%Y',t2.time_created) as rideDate,\n",
    "t2.start_city as departureCity,\n",
    "t2.end_city as arrivalCity\n",
    "FROM jobs as t1\n",
    "left join requests t2 ON t1.job_id = t2.job_id\n",
    "WHERE t1.active = 1\n"
   ]
  },
  {
   "cell_type": "code",
   "execution_count": 6,
   "metadata": {},
   "outputs": [],
   "source": [
    "params_from_db = db.c.execute('''SELECT \n",
    "strftime(\"%d.%m.%Y\",t2.date) as rideDate,\n",
    "t2.start_city as departureCity,\n",
    "t2.end_city as arrivalCity\n",
    "FROM jobs as t1\n",
    "left join requests as t2 ON t1.job_id = t2.job_id\n",
    "WHERE t1.active = 1''')\n",
    "colnames = [i[0] for i in params_from_db.description]\n",
    "values = params_from_db.fetchall()"
   ]
  },
  {
   "cell_type": "code",
   "execution_count": 7,
   "metadata": {},
   "outputs": [
    {
     "name": "stdout",
     "output_type": "stream",
     "text": [
      "['rideDate', 'departureCity', 'arrivalCity']\n",
      "[('02.01.2020', 1915, 1815), ('02.01.2020', 1915, 7588), ('03.01.2020', 1915, 7588)]\n"
     ]
    }
   ],
   "source": [
    "print(colnames)\n",
    "print(values)"
   ]
  },
  {
   "cell_type": "code",
   "execution_count": 8,
   "metadata": {},
   "outputs": [],
   "source": [
    "constant_search_params = {\n",
    "    \"adult\": \"1\",\n",
    "    \"_locale\": \"pl\"\n",
    "}\n"
   ]
  },
  {
   "cell_type": "code",
   "execution_count": 9,
   "metadata": {},
   "outputs": [],
   "source": [
    "params_list = []\n",
    "for single_params in values:\n",
    "    params_list.append({\"rideDate\": single_params[0],\n",
    "                       \"departureCity\": single_params[1],\n",
    "                       \"arrivalCity\": single_params[2]})\n",
    "    \n",
    "params_list = [{**i, **constant_search_params} for i in params_list]"
   ]
  },
  {
   "cell_type": "code",
   "execution_count": 10,
   "metadata": {
    "scrolled": true
   },
   "outputs": [
    {
     "data": {
      "text/plain": [
       "[{'rideDate': '02.01.2020',\n",
       "  'departureCity': 1915,\n",
       "  'arrivalCity': 1815,\n",
       "  'adult': '1',\n",
       "  '_locale': 'pl'},\n",
       " {'rideDate': '02.01.2020',\n",
       "  'departureCity': 1915,\n",
       "  'arrivalCity': 7588,\n",
       "  'adult': '1',\n",
       "  '_locale': 'pl'},\n",
       " {'rideDate': '03.01.2020',\n",
       "  'departureCity': 1915,\n",
       "  'arrivalCity': 7588,\n",
       "  'adult': '1',\n",
       "  '_locale': 'pl'}]"
      ]
     },
     "execution_count": 10,
     "metadata": {},
     "output_type": "execute_result"
    }
   ],
   "source": [
    "params_list"
   ]
  },
  {
   "cell_type": "code",
   "execution_count": 11,
   "metadata": {},
   "outputs": [
    {
     "data": {
      "text/html": [
       "<div>\n",
       "<style scoped>\n",
       "    .dataframe tbody tr th:only-of-type {\n",
       "        vertical-align: middle;\n",
       "    }\n",
       "\n",
       "    .dataframe tbody tr th {\n",
       "        vertical-align: top;\n",
       "    }\n",
       "\n",
       "    .dataframe thead th {\n",
       "        text-align: right;\n",
       "    }\n",
       "</style>\n",
       "<table border=\"1\" class=\"dataframe\">\n",
       "  <thead>\n",
       "    <tr style=\"text-align: right;\">\n",
       "      <th></th>\n",
       "      <th>departure_time</th>\n",
       "      <th>arrival_time</th>\n",
       "      <th>departure_station</th>\n",
       "      <th>arrival_station</th>\n",
       "      <th>price</th>\n",
       "    </tr>\n",
       "  </thead>\n",
       "  <tbody>\n",
       "    <tr>\n",
       "      <th>0</th>\n",
       "      <td>00:30</td>\n",
       "      <td>04:00</td>\n",
       "      <td>Kraków MDA</td>\n",
       "      <td>Łódź Fabryczna</td>\n",
       "      <td>69,99</td>\n",
       "    </tr>\n",
       "    <tr>\n",
       "      <th>1</th>\n",
       "      <td>07:05</td>\n",
       "      <td>11:25</td>\n",
       "      <td>Kraków MDA</td>\n",
       "      <td>Łódź Fabryczna</td>\n",
       "      <td>69,99</td>\n",
       "    </tr>\n",
       "    <tr>\n",
       "      <th>2</th>\n",
       "      <td>12:00</td>\n",
       "      <td>16:00</td>\n",
       "      <td>Kraków MDA</td>\n",
       "      <td>Łódź Fabryczna</td>\n",
       "      <td>None</td>\n",
       "    </tr>\n",
       "    <tr>\n",
       "      <th>3</th>\n",
       "      <td>15:10</td>\n",
       "      <td>19:25</td>\n",
       "      <td>Kraków MDA</td>\n",
       "      <td>Łódź Fabryczna</td>\n",
       "      <td>69,99</td>\n",
       "    </tr>\n",
       "    <tr>\n",
       "      <th>4</th>\n",
       "      <td>19:15</td>\n",
       "      <td>23:50</td>\n",
       "      <td>Kraków MDA</td>\n",
       "      <td>Łódź Fabryczna</td>\n",
       "      <td>None</td>\n",
       "    </tr>\n",
       "    <tr>\n",
       "      <th>5</th>\n",
       "      <td>23:59</td>\n",
       "      <td>04:15</td>\n",
       "      <td>Kraków MDA</td>\n",
       "      <td>Łódź Fabryczna</td>\n",
       "      <td>45,99</td>\n",
       "    </tr>\n",
       "    <tr>\n",
       "      <th>6</th>\n",
       "      <td>00:30</td>\n",
       "      <td>04:00</td>\n",
       "      <td>Kraków MDA</td>\n",
       "      <td>Łódź Fabryczna</td>\n",
       "      <td>69,99</td>\n",
       "    </tr>\n",
       "  </tbody>\n",
       "</table>\n",
       "</div>"
      ],
      "text/plain": [
       "  departure_time arrival_time departure_station arrival_station  price\n",
       "0          00:30        04:00        Kraków MDA  Łódź Fabryczna  69,99\n",
       "1          07:05        11:25        Kraków MDA  Łódź Fabryczna  69,99\n",
       "2          12:00        16:00        Kraków MDA  Łódź Fabryczna   None\n",
       "3          15:10        19:25        Kraków MDA  Łódź Fabryczna  69,99\n",
       "4          19:15        23:50        Kraków MDA  Łódź Fabryczna   None\n",
       "5          23:59        04:15        Kraków MDA  Łódź Fabryczna  45,99\n",
       "6          00:30        04:00        Kraków MDA  Łódź Fabryczna  69,99"
      ]
     },
     "execution_count": 11,
     "metadata": {},
     "output_type": "execute_result"
    }
   ],
   "source": [
    "crawler = Crawler(params_list[1])\n",
    "crawler.get_all()\n",
    "crawler.get_pandas_df()"
   ]
  },
  {
   "cell_type": "code",
   "execution_count": 12,
   "metadata": {},
   "outputs": [
    {
     "data": {
      "text/plain": [
       "[  departure_time arrival_time departure_station     arrival_station   price\n",
       " 0          00:30        09:35        Kraków MDA              Gdańsk  129,99\n",
       " 1          00:30        11:45        Kraków MDA  Gdańsk Hala Olivia  129,98,\n",
       "   departure_time arrival_time departure_station arrival_station  price\n",
       " 0          00:30        04:00        Kraków MDA  Łódź Fabryczna  69,99\n",
       " 1          07:05        11:25        Kraków MDA  Łódź Fabryczna  69,99\n",
       " 2          12:00        16:00        Kraków MDA  Łódź Fabryczna   None\n",
       " 3          15:10        19:25        Kraków MDA  Łódź Fabryczna  69,99\n",
       " 4          19:15        23:50        Kraków MDA  Łódź Fabryczna   None\n",
       " 5          23:59        04:15        Kraków MDA  Łódź Fabryczna  45,99\n",
       " 6          00:30        04:00        Kraków MDA  Łódź Fabryczna  69,99,\n",
       "   departure_time arrival_time departure_station arrival_station  price\n",
       " 0          00:30        04:00        Kraków MDA  Łódź Fabryczna  69,99\n",
       " 1          07:05        11:25        Kraków MDA  Łódź Fabryczna  55,99\n",
       " 2          12:00        16:00        Kraków MDA  Łódź Fabryczna  59,99\n",
       " 3          15:10        19:25        Kraków MDA  Łódź Fabryczna  69,99\n",
       " 4          19:15        23:50        Kraków MDA  Łódź Fabryczna  69,99\n",
       " 5          23:59        04:15        Kraków MDA  Łódź Fabryczna  49,99\n",
       " 6          00:30        04:00        Kraków MDA  Łódź Fabryczna  55,99]"
      ]
     },
     "execution_count": 12,
     "metadata": {},
     "output_type": "execute_result"
    }
   ],
   "source": [
    "results = []\n",
    "for search_params in params_list:\n",
    "    crawler = Crawler(search_params)\n",
    "    crawler.get_all()\n",
    "    results.append(crawler.get_pandas_df())\n",
    "    \n",
    "results"
   ]
  },
  {
   "cell_type": "code",
   "execution_count": null,
   "metadata": {},
   "outputs": [],
   "source": []
  }
 ],
 "metadata": {
  "anaconda-cloud": {},
  "kernelspec": {
   "display_name": "Python 3",
   "language": "python",
   "name": "python3"
  },
  "language_info": {
   "codemirror_mode": {
    "name": "ipython",
    "version": 3
   },
   "file_extension": ".py",
   "mimetype": "text/x-python",
   "name": "python",
   "nbconvert_exporter": "python",
   "pygments_lexer": "ipython3",
   "version": "3.7.5"
  }
 },
 "nbformat": 4,
 "nbformat_minor": 1
}
