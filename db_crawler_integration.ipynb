{
 "cells": [
  {
   "cell_type": "code",
   "execution_count": null,
   "metadata": {},
   "outputs": [],
   "source": [
    "from crawl import Crawler\n",
    "from parse import find_all_safely\n",
    "import pandas as pd\n",
    "import numpy as np\n",
    "import os\n",
    "from setup_db import DB, setup_db, cursor_as_df, execute_to_df"
   ]
  },
  {
   "cell_type": "code",
   "execution_count": null,
   "metadata": {},
   "outputs": [],
   "source": [
    "# db = setup_db()"
   ]
  },
  {
   "cell_type": "code",
   "execution_count": null,
   "metadata": {},
   "outputs": [],
   "source": [
    "path = \"test_db.db\"\n",
    "db = DB(path)\n",
    "db.run_setup_scripts()\n",
    "#db.insert_initial_data()\n"
   ]
  },
  {
   "cell_type": "code",
   "execution_count": null,
   "metadata": {},
   "outputs": [],
   "source": [
    "# db.close()"
   ]
  },
  {
   "cell_type": "code",
   "execution_count": null,
   "metadata": {},
   "outputs": [],
   "source": [
    "db.select_all(\"jobs\")"
   ]
  },
  {
   "cell_type": "code",
   "execution_count": null,
   "metadata": {},
   "outputs": [],
   "source": [
    "db.select_all(\"requests\")"
   ]
  },
  {
   "cell_type": "code",
   "execution_count": null,
   "metadata": {},
   "outputs": [],
   "source": [
    "db.show_tables()"
   ]
  },
  {
   "cell_type": "code",
   "execution_count": null,
   "metadata": {},
   "outputs": [],
   "source": [
    "db.select_all(\"results\")"
   ]
  },
  {
   "cell_type": "markdown",
   "metadata": {},
   "source": [
    "SELECT \n",
    "request_id,\n",
    "strftime('%d.%m.%Y',t2.time_created) as rideDate,\n",
    "t2.start_city as departureCity,\n",
    "t2.end_city as arrivalCity\n",
    "FROM jobs as t1\n",
    "left join requests t2 ON t1.job_id = t2.job_id\n",
    "WHERE t1.active = 1\n"
   ]
  },
  {
   "cell_type": "code",
   "execution_count": null,
   "metadata": {},
   "outputs": [],
   "source": [
    "params_from_db = db.c.execute('''SELECT \n",
    "t2.request_id,\n",
    "strftime(\"%d.%m.%Y\",t2.date) as rideDate,\n",
    "t2.start_city as departureCity,\n",
    "t2.end_city as arrivalCity\n",
    "FROM jobs as t1\n",
    "left join requests as t2 ON t1.job_id = t2.job_id\n",
    "WHERE t1.active = 1''')\n",
    "colnames = [i[0] for i in params_from_db.description]\n",
    "values = params_from_db.fetchall()"
   ]
  },
  {
   "cell_type": "code",
   "execution_count": null,
   "metadata": {
    "scrolled": true
   },
   "outputs": [],
   "source": [
    "print(colnames)\n",
    "print(values)"
   ]
  },
  {
   "cell_type": "code",
   "execution_count": null,
   "metadata": {},
   "outputs": [],
   "source": [
    "constant_search_params = {\n",
    "    \"adult\": \"1\",\n",
    "    \"_locale\": \"pl\"\n",
    "}\n"
   ]
  },
  {
   "cell_type": "code",
   "execution_count": null,
   "metadata": {},
   "outputs": [],
   "source": [
    "values"
   ]
  },
  {
   "cell_type": "code",
   "execution_count": null,
   "metadata": {},
   "outputs": [],
   "source": [
    "params_list = []\n",
    "for single_params in values:\n",
    "    params_list.append({\"rideDate\": single_params[1],\n",
    "                       \"departureCity\": single_params[2],\n",
    "                       \"arrivalCity\": single_params[3]})\n",
    "    \n",
    "params_list = [{**i, **constant_search_params} for i in params_list]\n",
    "request_id_list = [i[0] for i in values]"
   ]
  },
  {
   "cell_type": "code",
   "execution_count": null,
   "metadata": {
    "scrolled": true
   },
   "outputs": [],
   "source": [
    "params_list"
   ]
  },
  {
   "cell_type": "code",
   "execution_count": null,
   "metadata": {},
   "outputs": [],
   "source": [
    "current_params = params_list[1]\n",
    "current_request_id = request_id_list[1]"
   ]
  },
  {
   "cell_type": "code",
   "execution_count": null,
   "metadata": {},
   "outputs": [],
   "source": [
    "crawler = Crawler(current_params)\n",
    "crawler.get_all()\n",
    "results_pd_raw  = crawler.get_pandas_df()"
   ]
  },
  {
   "cell_type": "code",
   "execution_count": null,
   "metadata": {},
   "outputs": [],
   "source": [
    "results_pd = results_pd_raw.copy()"
   ]
  },
  {
   "cell_type": "code",
   "execution_count": null,
   "metadata": {},
   "outputs": [],
   "source": [
    "results_pd_raw"
   ]
  },
  {
   "cell_type": "code",
   "execution_count": null,
   "metadata": {},
   "outputs": [],
   "source": [
    "class dfSanitizer:\n",
    "    def __init__(self, df):\n",
    "        self.df = df\n",
    "\n",
    "#         self.sanitize_station_vec = np.vectorize(sanitize_station)\n",
    "        self.sanitize_price_vec = np.vectorize(sanitize_price)\n",
    "#         self.sanitize_time_vec = np.vectorize(sanitize_time)\n",
    "    \n",
    "    def sanitize_price(self, x):\n",
    "        if x is None:\n",
    "            return None\n",
    "\n",
    "        try:\n",
    "            stripped = re.sub(\"[^\\d\\,]\", \"\", x) # remove all characters except numbers and commas\n",
    "\n",
    "            if len(stripped)>10:\n",
    "                return None\n",
    "\n",
    "            stripped_comma = stripped.replace(\",\", \".\")\n",
    "\n",
    "            number = float(stripped_comma)\n",
    "\n",
    "        except:\n",
    "            return None\n",
    "\n",
    "        return number\n",
    "    "
   ]
  },
  {
   "cell_type": "code",
   "execution_count": null,
   "metadata": {},
   "outputs": [],
   "source": [
    "a = dfSanitizer(1)\n",
    "a"
   ]
  },
  {
   "cell_type": "code",
   "execution_count": null,
   "metadata": {},
   "outputs": [],
   "source": [
    "a.sanitize_price_vec(10)"
   ]
  },
  {
   "cell_type": "code",
   "execution_count": null,
   "metadata": {},
   "outputs": [],
   "source": [
    "def sanitize_price(x):\n",
    "    if x is None:\n",
    "        return None\n",
    "    \n",
    "    try:\n",
    "        stripped = re.sub(\"[^\\d\\,]\", \"\", x) # remove all characters except numbers and commas\n",
    "        \n",
    "        if len(stripped)>10:\n",
    "            return None\n",
    "\n",
    "        stripped_comma = stripped.replace(\",\", \".\")\n",
    "        \n",
    "        number = float(stripped_comma)\n",
    "    \n",
    "    except:\n",
    "        return None\n",
    "    \n",
    "    return number\n",
    "    "
   ]
  },
  {
   "cell_type": "code",
   "execution_count": null,
   "metadata": {
    "scrolled": false
   },
   "outputs": [],
   "source": [
    "print(sanitize_price(\"65,94\") == 65.94)\n",
    "print(sanitize_price(\"65,a94\") == 65.94)\n",
    "print(sanitize_price(\"65,a94   \") == 65.94)\n",
    "print(sanitize_price(\"65,56,4\") is None)\n",
    "print(sanitize_price(None) is None)\n",
    "print(sanitize_price(\"54,\") == 54.0)\n",
    "print(sanitize_price(\",54\") == 0.54)\n",
    "print(sanitize_price(43) is None)"
   ]
  },
  {
   "cell_type": "code",
   "execution_count": null,
   "metadata": {},
   "outputs": [],
   "source": [
    "def sanitize_station(station):\n",
    "    try:\n",
    "        return station.lstrip().rstrip()\n",
    "    except:\n",
    "        return None"
   ]
  },
  {
   "cell_type": "code",
   "execution_count": null,
   "metadata": {
    "scrolled": true
   },
   "outputs": [],
   "source": [
    "print(sanitize_station(\"abc\") == \"abc\")\n",
    "print(sanitize_station(\"      abc\") == \"abc\")\n",
    "print(sanitize_station(\"abc   \") == \"abc\")\n",
    "print(sanitize_station(1) is None)\n",
    "print(sanitize_station(None) is None)"
   ]
  },
  {
   "cell_type": "code",
   "execution_count": null,
   "metadata": {},
   "outputs": [],
   "source": [
    "def sanitize_time(x):\n",
    "    if x is None:\n",
    "        return None\n",
    "    \n",
    "    try:\n",
    "        stripped = re.sub(\"[^\\d\\:]\", \"\", x) # remove all characters except numbers and commas\n",
    "        \n",
    "        if len(stripped) != 5:\n",
    "            return None\n",
    "\n",
    "        if sum([i == \":\" for i in stripped]) != 1:\n",
    "            return None\n",
    "        \n",
    "    \n",
    "    except:\n",
    "        return None\n",
    "    \n",
    "    return stripped"
   ]
  },
  {
   "cell_type": "code",
   "execution_count": null,
   "metadata": {},
   "outputs": [],
   "source": [
    "print(sanitize_time(\"09:50\") == \"09:50\")\n",
    "print(sanitize_time(\"09:50   \") == \"09:50\")\n",
    "print(sanitize_time(\"09:50aa\") == \"09:50\")\n",
    "print(sanitize_time(\"9:50:\") is None)\n",
    "print(sanitize_time(\"950\") is None)\n",
    "print(sanitize_time(\":\") is None)\n",
    "print(sanitize_time(\"9:50\") is None)"
   ]
  },
  {
   "cell_type": "code",
   "execution_count": null,
   "metadata": {},
   "outputs": [],
   "source": [
    "\n",
    "sanitize_station_vec = np.vectorize(sanitize_station)\n",
    "sanitize_price_vec = np.vectorize(sanitize_price)\n",
    "sanitize_time_vec = np.vectorize(sanitize_time)"
   ]
  },
  {
   "cell_type": "code",
   "execution_count": null,
   "metadata": {},
   "outputs": [],
   "source": [
    "results_pd"
   ]
  },
  {
   "cell_type": "code",
   "execution_count": null,
   "metadata": {},
   "outputs": [],
   "source": [
    "results_pd.price = sanitize_price_vec(results_pd.price)\n",
    "results_pd.departure_station = sanitize_station_vec(results_pd.departure_station)\n",
    "results_pd.arrival_station = sanitize_station_vec(results_pd.arrival_station)\n",
    "results_pd.departure_time = sanitize_time_vec(results_pd.departure_time)\n",
    "results_pd.arrival_time = sanitize_time_vec(results_pd.arrival_time)\n",
    "results_pd[\"fully_booked\"] = results_pd.price.isna()"
   ]
  },
  {
   "cell_type": "code",
   "execution_count": null,
   "metadata": {},
   "outputs": [],
   "source": [
    "results_pd[\"rideDate\"] = current_params[\"rideDate\"]\n",
    "results_pd[\"departure_datetime\"] = results_pd.rideDate + \" \" + results_pd.departure_time\n",
    "results_pd[\"departure_datetime\"] = pd.to_datetime(results_pd[\"departure_datetime\"])\n",
    "results_pd[\"arrival_datetime\"] = results_pd.rideDate + \" \" + results_pd.arrival_time\n",
    "results_pd[\"arrival_datetime\"] = pd.to_datetime(results_pd[\"arrival_datetime\"])\n"
   ]
  },
  {
   "cell_type": "code",
   "execution_count": null,
   "metadata": {},
   "outputs": [],
   "source": [
    "mask = results_pd[\"arrival_datetime\"] < results_pd[\"departure_datetime\"]\n",
    "masked_df = results_pd[mask]"
   ]
  },
  {
   "cell_type": "code",
   "execution_count": null,
   "metadata": {},
   "outputs": [],
   "source": [
    "results_pd.loc[mask, \"arrival_datetime\"] = masked_df.arrival_datetime + pd.DateOffset(days = 1)"
   ]
  },
  {
   "cell_type": "code",
   "execution_count": null,
   "metadata": {},
   "outputs": [],
   "source": [
    "from datetime import datetime"
   ]
  },
  {
   "cell_type": "code",
   "execution_count": null,
   "metadata": {},
   "outputs": [],
   "source": [
    "datetime.now()"
   ]
  },
  {
   "cell_type": "code",
   "execution_count": null,
   "metadata": {},
   "outputs": [],
   "source": [
    "current_params"
   ]
  },
  {
   "cell_type": "code",
   "execution_count": null,
   "metadata": {},
   "outputs": [],
   "source": [
    "results_pd[\"request_id\"] = current_request_id\n",
    "results_pd[\"time_created\"] = datetime.now()\n",
    "results_pd[\"departure_city\"] = current_params[\"departureCity\"]\n",
    "results_pd[\"arrival_city\"] = current_params[\"arrivalCity\"]"
   ]
  },
  {
   "cell_type": "code",
   "execution_count": null,
   "metadata": {},
   "outputs": [],
   "source": [
    "db.select_all(\"results\")"
   ]
  },
  {
   "cell_type": "code",
   "execution_count": null,
   "metadata": {
    "scrolled": true
   },
   "outputs": [],
   "source": [
    "\n",
    "results_pd"
   ]
  },
  {
   "cell_type": "code",
   "execution_count": null,
   "metadata": {},
   "outputs": [],
   "source": [
    "unique_stations = set(results_pd.departure_station.tolist() + results_pd.arrival_station.tolist())\n",
    "unique_stations"
   ]
  },
  {
   "cell_type": "code",
   "execution_count": null,
   "metadata": {},
   "outputs": [],
   "source": [
    "results = []\n",
    "for search_params in params_list:\n",
    "    crawler = Crawler(search_params)\n",
    "    crawler.get_all()\n",
    "    results.append(crawler.get_pandas_df())\n",
    "    \n",
    "results"
   ]
  },
  {
   "cell_type": "code",
   "execution_count": null,
   "metadata": {},
   "outputs": [],
   "source": [
    "sanitizer.sanitized_df"
   ]
  },
  {
   "cell_type": "code",
   "execution_count": null,
   "metadata": {},
   "outputs": [],
   "source": [
    "sanitizer"
   ]
  }
 ],
 "metadata": {
  "anaconda-cloud": {},
  "kernelspec": {
   "display_name": "Python 3",
   "language": "python",
   "name": "python3"
  },
  "language_info": {
   "codemirror_mode": {
    "name": "ipython",
    "version": 3
   },
   "file_extension": ".py",
   "mimetype": "text/x-python",
   "name": "python",
   "nbconvert_exporter": "python",
   "pygments_lexer": "ipython3",
   "version": "3.7.5"
  }
 },
 "nbformat": 4,
 "nbformat_minor": 1
}
