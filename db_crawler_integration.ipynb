{
 "cells": [
  {
   "cell_type": "code",
   "execution_count": 1,
   "metadata": {
    "collapsed": false
   },
   "outputs": [],
   "source": [
    "from crawl import Crawler\n",
    "from parse import find_all_safely\n",
    "import pandas as pd\n",
    "import os\n",
    "from setup_db import DB, setup_db, cursor_as_df, execute_to_df"
   ]
  },
  {
   "cell_type": "code",
   "execution_count": 2,
   "metadata": {
    "collapsed": false
   },
   "outputs": [],
   "source": [
    "db = setup_db()"
   ]
  },
  {
   "cell_type": "code",
   "execution_count": 3,
   "metadata": {
    "collapsed": false
   },
   "outputs": [],
   "source": [
    "# db.close()"
   ]
  },
  {
   "cell_type": "code",
   "execution_count": 4,
   "metadata": {
    "collapsed": false
   },
   "outputs": [
    {
     "data": {
      "text/html": [
       "<div>\n",
       "<table border=\"1\" class=\"dataframe\">\n",
       "  <thead>\n",
       "    <tr style=\"text-align: right;\">\n",
       "      <th></th>\n",
       "      <th>job_id</th>\n",
       "      <th>user_created</th>\n",
       "      <th>active</th>\n",
       "      <th>time_created</th>\n",
       "      <th>last_run</th>\n",
       "      <th>job_name</th>\n",
       "    </tr>\n",
       "  </thead>\n",
       "  <tbody>\n",
       "    <tr>\n",
       "      <th>0</th>\n",
       "      <td>1</td>\n",
       "      <td>1</td>\n",
       "      <td>1</td>\n",
       "      <td>2019-10-10 00:00:00</td>\n",
       "      <td>None</td>\n",
       "      <td>test_job</td>\n",
       "    </tr>\n",
       "  </tbody>\n",
       "</table>\n",
       "</div>"
      ],
      "text/plain": [
       "   job_id  user_created  active         time_created last_run  job_name\n",
       "0       1             1       1  2019-10-10 00:00:00     None  test_job"
      ]
     },
     "execution_count": 4,
     "metadata": {},
     "output_type": "execute_result"
    }
   ],
   "source": [
    "db.select_all(\"jobs\")"
   ]
  },
  {
   "cell_type": "code",
   "execution_count": 5,
   "metadata": {
    "collapsed": false
   },
   "outputs": [
    {
     "data": {
      "text/html": [
       "<div>\n",
       "<table border=\"1\" class=\"dataframe\">\n",
       "  <thead>\n",
       "    <tr style=\"text-align: right;\">\n",
       "      <th></th>\n",
       "      <th>request_id</th>\n",
       "      <th>job_id</th>\n",
       "      <th>start_city</th>\n",
       "      <th>end_city</th>\n",
       "      <th>date</th>\n",
       "    </tr>\n",
       "  </thead>\n",
       "  <tbody>\n",
       "    <tr>\n",
       "      <th>0</th>\n",
       "      <td>1</td>\n",
       "      <td>1</td>\n",
       "      <td>1915</td>\n",
       "      <td>1815</td>\n",
       "      <td>2020-01-02 00:00:00</td>\n",
       "    </tr>\n",
       "    <tr>\n",
       "      <th>1</th>\n",
       "      <td>2</td>\n",
       "      <td>1</td>\n",
       "      <td>1915</td>\n",
       "      <td>7588</td>\n",
       "      <td>2020-01-02 00:00:00</td>\n",
       "    </tr>\n",
       "    <tr>\n",
       "      <th>2</th>\n",
       "      <td>3</td>\n",
       "      <td>1</td>\n",
       "      <td>1915</td>\n",
       "      <td>7588</td>\n",
       "      <td>2020-01-03 00:00:00</td>\n",
       "    </tr>\n",
       "  </tbody>\n",
       "</table>\n",
       "</div>"
      ],
      "text/plain": [
       "   request_id  job_id  start_city  end_city                 date\n",
       "0           1       1        1915      1815  2020-01-02 00:00:00\n",
       "1           2       1        1915      7588  2020-01-02 00:00:00\n",
       "2           3       1        1915      7588  2020-01-03 00:00:00"
      ]
     },
     "execution_count": 5,
     "metadata": {},
     "output_type": "execute_result"
    }
   ],
   "source": [
    "db.select_all(\"requests\")"
   ]
  },
  {
   "cell_type": "markdown",
   "metadata": {},
   "source": [
    "SELECT \n",
    "strftime('%d.%m.%Y',t2.time_created) as rideDate,\n",
    "t2.start_city as departureCity,\n",
    "t2.end_city as arrivalCity\n",
    "FROM jobs as t1\n",
    "left join requests t2 ON t1.job_id = t2.job_id\n",
    "WHERE t1.active = 1\n"
   ]
  },
  {
   "cell_type": "code",
   "execution_count": 6,
   "metadata": {
    "collapsed": false
   },
   "outputs": [],
   "source": [
    "params_from_db = db.c.execute('''SELECT \n",
    "strftime(\"%d.%m.%Y\",t2.date) as rideDate,\n",
    "t2.start_city as departureCity,\n",
    "t2.end_city as arrivalCity\n",
    "FROM jobs as t1\n",
    "left join requests as t2 ON t1.job_id = t2.job_id\n",
    "WHERE t1.active = 1''')\n",
    "colnames = [i[0] for i in params_from_db.description]\n",
    "values = params_from_db.fetchall()"
   ]
  },
  {
   "cell_type": "code",
   "execution_count": 7,
   "metadata": {
    "collapsed": false
   },
   "outputs": [
    {
     "name": "stdout",
     "output_type": "stream",
     "text": [
      "['rideDate', 'departureCity', 'arrivalCity']\n",
      "[('02.01.2020', 1915, 1815), ('02.01.2020', 1915, 7588), ('03.01.2020', 1915, 7588)]\n"
     ]
    }
   ],
   "source": [
    "print(colnames)\n",
    "print(values)"
   ]
  },
  {
   "cell_type": "code",
   "execution_count": 8,
   "metadata": {
    "collapsed": true
   },
   "outputs": [],
   "source": [
    "constant_search_params = {\n",
    "    \"adult\": \"1\",\n",
    "    \"_locale\": \"pl\"\n",
    "}\n"
   ]
  },
  {
   "cell_type": "code",
   "execution_count": 9,
   "metadata": {
    "collapsed": false
   },
   "outputs": [],
   "source": [
    "params_list = []\n",
    "for single_params in values:\n",
    "    params_list.append({\"rideDate\": single_params[0],\n",
    "                       \"departureCity\": single_params[1],\n",
    "                       \"arrivalCity\": single_params[2]})\n",
    "    \n",
    "params_list = [{**i, **constant_search_params} for i in params_list]"
   ]
  },
  {
   "cell_type": "code",
   "execution_count": 10,
   "metadata": {
    "collapsed": false
   },
   "outputs": [
    {
     "data": {
      "text/plain": [
       "[{'_locale': 'pl',\n",
       "  'adult': '1',\n",
       "  'arrivalCity': 1815,\n",
       "  'departureCity': 1915,\n",
       "  'rideDate': '02.01.2020'},\n",
       " {'_locale': 'pl',\n",
       "  'adult': '1',\n",
       "  'arrivalCity': 7588,\n",
       "  'departureCity': 1915,\n",
       "  'rideDate': '02.01.2020'},\n",
       " {'_locale': 'pl',\n",
       "  'adult': '1',\n",
       "  'arrivalCity': 7588,\n",
       "  'departureCity': 1915,\n",
       "  'rideDate': '03.01.2020'}]"
      ]
     },
     "execution_count": 10,
     "metadata": {},
     "output_type": "execute_result"
    }
   ],
   "source": [
    "params_list"
   ]
  },
  {
   "cell_type": "code",
   "execution_count": 12,
   "metadata": {
    "collapsed": false
   },
   "outputs": [
    {
     "data": {
      "text/html": [
       "<div>\n",
       "<table border=\"1\" class=\"dataframe\">\n",
       "  <thead>\n",
       "    <tr style=\"text-align: right;\">\n",
       "      <th></th>\n",
       "      <th>arrival_station</th>\n",
       "      <th>arrival_time</th>\n",
       "      <th>departure_station</th>\n",
       "      <th>departure_time</th>\n",
       "      <th>price</th>\n",
       "    </tr>\n",
       "  </thead>\n",
       "  <tbody>\n",
       "    <tr>\n",
       "      <th>0</th>\n",
       "      <td>Łódź Fabryczna</td>\n",
       "      <td>04:00</td>\n",
       "      <td>Kraków MDA</td>\n",
       "      <td>00:30</td>\n",
       "      <td>59,99</td>\n",
       "    </tr>\n",
       "    <tr>\n",
       "      <th>1</th>\n",
       "      <td>Łódź Fabryczna</td>\n",
       "      <td>11:25</td>\n",
       "      <td>Kraków MDA</td>\n",
       "      <td>07:05</td>\n",
       "      <td>59,99</td>\n",
       "    </tr>\n",
       "    <tr>\n",
       "      <th>2</th>\n",
       "      <td>Łódź Fabryczna</td>\n",
       "      <td>16:00</td>\n",
       "      <td>Kraków MDA</td>\n",
       "      <td>12:00</td>\n",
       "      <td>69,99</td>\n",
       "    </tr>\n",
       "    <tr>\n",
       "      <th>3</th>\n",
       "      <td>Łódź Fabryczna</td>\n",
       "      <td>19:25</td>\n",
       "      <td>Kraków MDA</td>\n",
       "      <td>15:10</td>\n",
       "      <td>69,99</td>\n",
       "    </tr>\n",
       "    <tr>\n",
       "      <th>4</th>\n",
       "      <td>Łódź Fabryczna</td>\n",
       "      <td>23:50</td>\n",
       "      <td>Kraków MDA</td>\n",
       "      <td>19:15</td>\n",
       "      <td>69,99</td>\n",
       "    </tr>\n",
       "    <tr>\n",
       "      <th>5</th>\n",
       "      <td>Łódź Fabryczna</td>\n",
       "      <td>04:15</td>\n",
       "      <td>Kraków MDA</td>\n",
       "      <td>23:59</td>\n",
       "      <td>49,99</td>\n",
       "    </tr>\n",
       "    <tr>\n",
       "      <th>6</th>\n",
       "      <td>Łódź Fabryczna</td>\n",
       "      <td>04:00</td>\n",
       "      <td>Kraków MDA</td>\n",
       "      <td>00:30</td>\n",
       "      <td>69,99</td>\n",
       "    </tr>\n",
       "  </tbody>\n",
       "</table>\n",
       "</div>"
      ],
      "text/plain": [
       "  arrival_station arrival_time departure_station departure_time  price\n",
       "0  Łódź Fabryczna        04:00        Kraków MDA          00:30  59,99\n",
       "1  Łódź Fabryczna        11:25        Kraków MDA          07:05  59,99\n",
       "2  Łódź Fabryczna        16:00        Kraków MDA          12:00  69,99\n",
       "3  Łódź Fabryczna        19:25        Kraków MDA          15:10  69,99\n",
       "4  Łódź Fabryczna        23:50        Kraków MDA          19:15  69,99\n",
       "5  Łódź Fabryczna        04:15        Kraków MDA          23:59  49,99\n",
       "6  Łódź Fabryczna        04:00        Kraków MDA          00:30  69,99"
      ]
     },
     "execution_count": 12,
     "metadata": {},
     "output_type": "execute_result"
    }
   ],
   "source": [
    "crawler = Crawler(params_list[1])\n",
    "crawler.get_all()\n",
    "crawler.get_pandas_df()"
   ]
  },
  {
   "cell_type": "code",
   "execution_count": 23,
   "metadata": {
    "collapsed": false
   },
   "outputs": [
    {
     "data": {
      "text/plain": [
       "'https://shop.flixbus.pl/search?'"
      ]
     },
     "execution_count": 23,
     "metadata": {},
     "output_type": "execute_result"
    }
   ],
   "source": [
    "crawler._request.url"
   ]
  },
  {
   "cell_type": "code",
   "execution_count": 36,
   "metadata": {
    "collapsed": false
   },
   "outputs": [
    {
     "data": {
      "text/plain": [
       "'https://shop.flixbus.pl/search?arrivalCity=7588&_locale=pl&departureCity=1915&rideDate=12.12.2019&adult=1'"
      ]
     },
     "execution_count": 36,
     "metadata": {},
     "output_type": "execute_result"
    }
   ],
   "source": [
    "crawler._request._resp.url"
   ]
  },
  {
   "cell_type": "code",
   "execution_count": 13,
   "metadata": {
    "collapsed": false
   },
   "outputs": [
    {
     "data": {
      "text/plain": [
       "[      arrival_station arrival_time departure_station departure_time   price\n",
       " 0              Gdańsk        09:35        Kraków MDA          00:30  109,99\n",
       " 1  Gdańsk Hala Olivia        11:45        Kraków MDA          00:30  105,98,\n",
       "   arrival_station arrival_time departure_station departure_time  price\n",
       " 0  Łódź Fabryczna        04:00        Kraków MDA          00:30  59,99\n",
       " 1  Łódź Fabryczna        11:25        Kraków MDA          07:05  59,99\n",
       " 2  Łódź Fabryczna        16:00        Kraków MDA          12:00  69,99\n",
       " 3  Łódź Fabryczna        19:25        Kraków MDA          15:10  69,99\n",
       " 4  Łódź Fabryczna        23:50        Kraków MDA          19:15  69,99\n",
       " 5  Łódź Fabryczna        04:15        Kraków MDA          23:59  49,99\n",
       " 6  Łódź Fabryczna        04:00        Kraków MDA          00:30  69,99,\n",
       "   arrival_station arrival_time departure_station departure_time  price\n",
       " 0  Łódź Fabryczna        04:00        Kraków MDA          00:30  69,99\n",
       " 1  Łódź Fabryczna        11:25        Kraków MDA          07:05  49,99\n",
       " 2  Łódź Fabryczna        16:00        Kraków MDA          12:00  59,99\n",
       " 3  Łódź Fabryczna        19:25        Kraków MDA          15:10  69,99\n",
       " 4  Łódź Fabryczna        23:50        Kraków MDA          19:15  69,99\n",
       " 5  Łódź Fabryczna        04:15        Kraków MDA          23:59  39,99\n",
       " 6  Łódź Fabryczna        04:00        Kraków MDA          00:30  55,99]"
      ]
     },
     "execution_count": 13,
     "metadata": {},
     "output_type": "execute_result"
    }
   ],
   "source": [
    "results = []\n",
    "for search_params in params_list:\n",
    "    crawler = Crawler(search_params)\n",
    "    crawler.get_all()\n",
    "    results.append(crawler.get_pandas_df())\n",
    "    \n",
    "results"
   ]
  },
  {
   "cell_type": "markdown",
   "metadata": {},
   "source": [
    "Crawler"
   ]
  },
  {
   "cell_type": "code",
   "execution_count": null,
   "metadata": {
    "collapsed": false
   },
   "outputs": [],
   "source": [
    "for i in params.itertuples():\n",
    "    a = i"
   ]
  },
  {
   "cell_type": "code",
   "execution_count": null,
   "metadata": {
    "collapsed": false
   },
   "outputs": [],
   "source": [
    "a.departureCity"
   ]
  },
  {
   "cell_type": "code",
   "execution_count": 27,
   "metadata": {
    "collapsed": true
   },
   "outputs": [],
   "source": [
    "variable_search_params = {\n",
    "    \"departureCity\": \"7568\",\n",
    "    \"arrivalCity\": \"1915\",\n",
    "    \"rideDate\": \"22.12.2019\"\n",
    "}"
   ]
  },
  {
   "cell_type": "code",
   "execution_count": 28,
   "metadata": {
    "collapsed": false
   },
   "outputs": [],
   "source": [
    "search_params = {\n",
    "    **variable_search_params, **constant_search_params\n",
    "}"
   ]
  },
  {
   "cell_type": "code",
   "execution_count": 29,
   "metadata": {
    "collapsed": false
   },
   "outputs": [],
   "source": [
    "crawler = Crawler(search_params)\n",
    "crawler.get_all()"
   ]
  },
  {
   "cell_type": "code",
   "execution_count": 34,
   "metadata": {
    "collapsed": false
   },
   "outputs": [
    {
     "data": {
      "text/plain": [
       "'https://shop.flixbus.pl/search?arrivalCity=1915&_locale=pl&departureCity=7568&rideDate=22.12.2019&adult=1'"
      ]
     },
     "execution_count": 34,
     "metadata": {},
     "output_type": "execute_result"
    }
   ],
   "source": [
    "crawler._request._resp.url"
   ]
  },
  {
   "cell_type": "code",
   "execution_count": 30,
   "metadata": {
    "collapsed": false,
    "scrolled": false
   },
   "outputs": [
    {
     "data": {
      "text/html": [
       "<div>\n",
       "<table border=\"1\" class=\"dataframe\">\n",
       "  <thead>\n",
       "    <tr style=\"text-align: right;\">\n",
       "      <th></th>\n",
       "      <th>arrival_station</th>\n",
       "      <th>arrival_time</th>\n",
       "      <th>departure_station</th>\n",
       "      <th>departure_time</th>\n",
       "      <th>price</th>\n",
       "    </tr>\n",
       "  </thead>\n",
       "  <tbody>\n",
       "    <tr>\n",
       "      <th>0</th>\n",
       "      <td>Kraków MDA</td>\n",
       "      <td>11:00</td>\n",
       "      <td>Warszawa Zachodnia</td>\n",
       "      <td>06:35</td>\n",
       "      <td>59,99</td>\n",
       "    </tr>\n",
       "    <tr>\n",
       "      <th>1</th>\n",
       "      <td>Kraków MDA</td>\n",
       "      <td>11:55</td>\n",
       "      <td>Warszawa Wilanowska</td>\n",
       "      <td>07:00</td>\n",
       "      <td>85,99</td>\n",
       "    </tr>\n",
       "    <tr>\n",
       "      <th>2</th>\n",
       "      <td>Kraków MDA</td>\n",
       "      <td>13:25</td>\n",
       "      <td>Warszawa Zachodnia</td>\n",
       "      <td>09:00</td>\n",
       "      <td>59,99</td>\n",
       "    </tr>\n",
       "    <tr>\n",
       "      <th>3</th>\n",
       "      <td>Kraków MDA</td>\n",
       "      <td>14:55</td>\n",
       "      <td>Warszawa Wilanowska</td>\n",
       "      <td>10:00</td>\n",
       "      <td>85,99</td>\n",
       "    </tr>\n",
       "    <tr>\n",
       "      <th>4</th>\n",
       "      <td>Kraków MDA</td>\n",
       "      <td>16:20</td>\n",
       "      <td>Warszawa Zachodnia</td>\n",
       "      <td>12:00</td>\n",
       "      <td>79,99</td>\n",
       "    </tr>\n",
       "    <tr>\n",
       "      <th>5</th>\n",
       "      <td>Kraków MDA</td>\n",
       "      <td>19:25</td>\n",
       "      <td>Warszawa Wilanowska</td>\n",
       "      <td>14:30</td>\n",
       "      <td>75,99</td>\n",
       "    </tr>\n",
       "    <tr>\n",
       "      <th>6</th>\n",
       "      <td>Kraków MDA</td>\n",
       "      <td>19:55</td>\n",
       "      <td>Warszawa Zachodnia</td>\n",
       "      <td>15:30</td>\n",
       "      <td>69,99</td>\n",
       "    </tr>\n",
       "    <tr>\n",
       "      <th>7</th>\n",
       "      <td>Kraków MDA</td>\n",
       "      <td>20:45</td>\n",
       "      <td>Warszawa Zachodnia</td>\n",
       "      <td>16:20</td>\n",
       "      <td>49,99</td>\n",
       "    </tr>\n",
       "    <tr>\n",
       "      <th>8</th>\n",
       "      <td>Kraków MDA</td>\n",
       "      <td>22:10</td>\n",
       "      <td>Warszawa Zachodnia</td>\n",
       "      <td>17:45</td>\n",
       "      <td>29,99</td>\n",
       "    </tr>\n",
       "    <tr>\n",
       "      <th>9</th>\n",
       "      <td>Kraków MDA</td>\n",
       "      <td>22:55</td>\n",
       "      <td>Warszawa Zachodnia</td>\n",
       "      <td>18:30</td>\n",
       "      <td>59,99</td>\n",
       "    </tr>\n",
       "    <tr>\n",
       "      <th>10</th>\n",
       "      <td>Kraków MDA</td>\n",
       "      <td>23:55</td>\n",
       "      <td>Warszawa Zachodnia</td>\n",
       "      <td>19:30</td>\n",
       "      <td>39,99</td>\n",
       "    </tr>\n",
       "    <tr>\n",
       "      <th>11</th>\n",
       "      <td>Kraków MDA</td>\n",
       "      <td>04:40</td>\n",
       "      <td>Warszawa Zachodnia</td>\n",
       "      <td>23:25</td>\n",
       "      <td>89,98</td>\n",
       "    </tr>\n",
       "    <tr>\n",
       "      <th>12</th>\n",
       "      <td>Kraków MDA</td>\n",
       "      <td>04:40</td>\n",
       "      <td>Warszawa Wilanowska</td>\n",
       "      <td>23:45</td>\n",
       "      <td>75,99</td>\n",
       "    </tr>\n",
       "  </tbody>\n",
       "</table>\n",
       "</div>"
      ],
      "text/plain": [
       "   arrival_station arrival_time    departure_station departure_time  price\n",
       "0       Kraków MDA        11:00   Warszawa Zachodnia          06:35  59,99\n",
       "1       Kraków MDA        11:55  Warszawa Wilanowska          07:00  85,99\n",
       "2       Kraków MDA        13:25   Warszawa Zachodnia          09:00  59,99\n",
       "3       Kraków MDA        14:55  Warszawa Wilanowska          10:00  85,99\n",
       "4       Kraków MDA        16:20   Warszawa Zachodnia          12:00  79,99\n",
       "5       Kraków MDA        19:25  Warszawa Wilanowska          14:30  75,99\n",
       "6       Kraków MDA        19:55   Warszawa Zachodnia          15:30  69,99\n",
       "7       Kraków MDA        20:45   Warszawa Zachodnia          16:20  49,99\n",
       "8       Kraków MDA        22:10   Warszawa Zachodnia          17:45  29,99\n",
       "9       Kraków MDA        22:55   Warszawa Zachodnia          18:30  59,99\n",
       "10      Kraków MDA        23:55   Warszawa Zachodnia          19:30  39,99\n",
       "11      Kraków MDA        04:40   Warszawa Zachodnia          23:25  89,98\n",
       "12      Kraków MDA        04:40  Warszawa Wilanowska          23:45  75,99"
      ]
     },
     "execution_count": 30,
     "metadata": {},
     "output_type": "execute_result"
    }
   ],
   "source": [
    "crawler.get_pandas_df()"
   ]
  },
  {
   "cell_type": "code",
   "execution_count": null,
   "metadata": {
    "collapsed": true
   },
   "outputs": [],
   "source": []
  }
 ],
 "metadata": {
  "anaconda-cloud": {},
  "kernelspec": {
   "display_name": "Python [conda env:Anaconda3]",
   "language": "python",
   "name": "conda-env-Anaconda3-py"
  },
  "language_info": {
   "codemirror_mode": {
    "name": "ipython",
    "version": 3
   },
   "file_extension": ".py",
   "mimetype": "text/x-python",
   "name": "python",
   "nbconvert_exporter": "python",
   "pygments_lexer": "ipython3",
   "version": "3.5.2"
  }
 },
 "nbformat": 4,
 "nbformat_minor": 1
}
