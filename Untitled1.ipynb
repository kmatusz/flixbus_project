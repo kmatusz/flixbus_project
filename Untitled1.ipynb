{
 "cells": [
  {
   "cell_type": "code",
   "execution_count": 51,
   "metadata": {},
   "outputs": [],
   "source": [
    "from fetch import RequestSinglePage\n",
    "from parse import InitialParser, RowParser, Parser\n",
    "from bs4 import BeautifulSoup\n",
    "from crawl import Crawler\n",
    "\n",
    "search_params = {\n",
    "    \"departureCity\": \"7568\",\n",
    "    \"arrivalCity\": \"1915\",\n",
    "    \"rideDate\": \"02.01.2020\",\n",
    "    \"adult\": \"1\",\n",
    "    \"_locale\": \"pl\",\n",
    "}"
   ]
  },
  {
   "cell_type": "code",
   "execution_count": null,
   "metadata": {},
   "outputs": [],
   "source": []
  },
  {
   "cell_type": "code",
   "execution_count": 52,
   "metadata": {},
   "outputs": [
    {
     "name": "stdout",
     "output_type": "stream",
     "text": [
      "Test w dobrym przypadku\n",
      "270908\n",
      "True\n"
     ]
    }
   ],
   "source": [
    "print(\"Test w dobrym przypadku\")\n",
    "a = RequestSinglePage(params=search_params)\n",
    "a.get()\n",
    "print(len(a.page_content))\n",
    "print(a.correctly_get)"
   ]
  },
  {
   "cell_type": "code",
   "execution_count": 60,
   "metadata": {},
   "outputs": [],
   "source": [
    "with open(\"test.html\", \"w\", encoding=\"UTF-8\") as f:\n",
    "    f.write(str(a._resp.text))"
   ]
  },
  {
   "cell_type": "code",
   "execution_count": 54,
   "metadata": {},
   "outputs": [],
   "source": [
    "parser = InitialParser(a.page_content)"
   ]
  },
  {
   "cell_type": "code",
   "execution_count": 55,
   "metadata": {},
   "outputs": [
    {
     "data": {
      "text/plain": [
       "<parse.InitialParser at 0x20c85d66588>"
      ]
     },
     "execution_count": 55,
     "metadata": {},
     "output_type": "execute_result"
    }
   ],
   "source": [
    "parser"
   ]
  },
  {
   "cell_type": "code",
   "execution_count": 56,
   "metadata": {},
   "outputs": [
    {
     "name": "stdout",
     "output_type": "stream",
     "text": [
      "--------Wyciąganie danych z 1 rezultatu--------------\n"
     ]
    }
   ],
   "source": [
    "print(\"--------Wyciąganie danych z 1 rezultatu--------------\")\n",
    "parser.extract_rows()\n",
    "rows = parser.rows"
   ]
  },
  {
   "cell_type": "code",
   "execution_count": 57,
   "metadata": {},
   "outputs": [
    {
     "data": {
      "text/plain": [
       "13"
      ]
     },
     "execution_count": 57,
     "metadata": {},
     "output_type": "execute_result"
    }
   ],
   "source": [
    "len(rows)"
   ]
  },
  {
   "cell_type": "code",
   "execution_count": 58,
   "metadata": {},
   "outputs": [
    {
     "data": {
      "text/plain": [
       "{'departure_time': None,\n",
       " 'arrival_time': None,\n",
       " 'departure_station': None,\n",
       " 'arrival_station': None,\n",
       " 'price': '\\n                                                                                    69,99'}"
      ]
     },
     "execution_count": 58,
     "metadata": {},
     "output_type": "execute_result"
    }
   ],
   "source": [
    "single_row = RowParser(rows[0])\n",
    "single_row.extract_fields()\n",
    "single_row.extracted_content"
   ]
  },
  {
   "cell_type": "code",
   "execution_count": 59,
   "metadata": {},
   "outputs": [
    {
     "data": {
      "text/plain": [
       "<bound method RowParser._find_price of <parse.RowParser object at 0x0000020C85E8CF88>>"
      ]
     },
     "execution_count": 59,
     "metadata": {},
     "output_type": "execute_result"
    }
   ],
   "source": [
    "single_row._find_price"
   ]
  },
  {
   "cell_type": "code",
   "execution_count": 43,
   "metadata": {},
   "outputs": [],
   "source": [
    "from parse import find_all_safely, find_safely"
   ]
  },
  {
   "cell_type": "code",
   "execution_count": 44,
   "metadata": {},
   "outputs": [],
   "source": [
    "import pandas as pd"
   ]
  },
  {
   "cell_type": "code",
   "execution_count": 63,
   "metadata": {
    "scrolled": true
   },
   "outputs": [
    {
     "data": {
      "text/plain": [
       "<div class=\"flix-connection__time departure-time\">\n",
       "                                    06:35\n",
       "                                </div>"
      ]
     },
     "execution_count": 63,
     "metadata": {},
     "output_type": "execute_result"
    }
   ],
   "source": [
    "find_all_safely(single_row._full_row, \"div\", class_=\"flix-connection__time\")[0]"
   ]
  },
  {
   "cell_type": "code",
   "execution_count": null,
   "metadata": {},
   "outputs": [],
   "source": []
  }
 ],
 "metadata": {
  "kernelspec": {
   "display_name": "Python 3",
   "language": "python",
   "name": "python3"
  },
  "language_info": {
   "codemirror_mode": {
    "name": "ipython",
    "version": 3
   },
   "file_extension": ".py",
   "mimetype": "text/x-python",
   "name": "python",
   "nbconvert_exporter": "python",
   "pygments_lexer": "ipython3",
   "version": "3.7.5"
  }
 },
 "nbformat": 4,
 "nbformat_minor": 2
}
