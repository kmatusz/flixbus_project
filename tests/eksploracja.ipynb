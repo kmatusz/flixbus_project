{
 "cells": [
  {
   "cell_type": "code",
   "execution_count": 1,
   "metadata": {},
   "outputs": [],
   "source": [
    "from requests import get\n",
    "from bs4 import BeautifulSoup"
   ]
  },
  {
   "cell_type": "code",
   "execution_count": 2,
   "metadata": {},
   "outputs": [],
   "source": [
    "# https://shop.flixbus.pl/search?departureCity=7568&arrivalCity=1915&route=Warszawa-Krak%C3%B3w&rideDate=20.11.2019&adult=1&_locale=pl&wt_eid=2156377373864875860&wt_t=1573237819472&affiliate=(not%2Bset)%2C&_ga=2.228166996.854006483.1573236402-171244053.1566906410&atb_pdid=1524aa7b-e10f-4744-aa6b-c1c033b32c8b&_sp=37e78191-3492-43e3-ab42-1cf0bcb5005a\n",
    "search_params = {\n",
    "    \"departureCity\":\"7568\",\n",
    "    \"arrivalCity\":\"1915\",\n",
    "    \"route\":\"Warszawa-Kraków\",\n",
    "    \"rideDate\":\"20.11.2019\",\n",
    "    \"adult\":\"1\",\n",
    "    \"_locale\":\"pl\",\n",
    "}\n",
    "request = get(\"https://shop.flixbus.pl/search?\", params= search_params)"
   ]
  },
  {
   "cell_type": "code",
   "execution_count": 3,
   "metadata": {},
   "outputs": [
    {
     "name": "stdout",
     "output_type": "stream",
     "text": [
      "200\n"
     ]
    }
   ],
   "source": [
    "# dir(request)\n",
    "\n",
    "print(request.status_code)\n",
    "site = BeautifulSoup(request.content, \"html.parser\")"
   ]
  },
  {
   "cell_type": "code",
   "execution_count": 23,
   "metadata": {},
   "outputs": [],
   "source": [
    "results = site.find(\"div\", id = \"results-group-container-direct\")"
   ]
  },
  {
   "cell_type": "code",
   "execution_count": 24,
   "metadata": {},
   "outputs": [
    {
     "data": {
      "text/plain": [
       "12"
      ]
     },
     "execution_count": 24,
     "metadata": {},
     "output_type": "execute_result"
    }
   ],
   "source": [
    "len(results)"
   ]
  },
  {
   "cell_type": "code",
   "execution_count": 6,
   "metadata": {},
   "outputs": [],
   "source": [
    "# class ride-avaliable - sprawdzić jak wygląda kiedy nie ma dostępnych\n",
    "# Case z pokazywaniem jazd kolejnego dnia jest niobsłużony jeszcze\n",
    "rows = results.find_all(\"div\", class_ = \"ride-available\")"
   ]
  },
  {
   "cell_type": "code",
   "execution_count": 7,
   "metadata": {},
   "outputs": [],
   "source": [
    "# jeden row odpowiada za jeden rezultat - teraz wyciągam wszysko po kolei\n",
    "single_row = rows[0]"
   ]
  },
  {
   "cell_type": "code",
   "execution_count": 8,
   "metadata": {},
   "outputs": [],
   "source": [
    "results_dict = {}"
   ]
  },
  {
   "cell_type": "code",
   "execution_count": 9,
   "metadata": {},
   "outputs": [],
   "source": [
    "ride_times = single_row.find(\"div\", class_ = \"ride-times\")\n",
    "results_dict[\"departure\"] = ride_times.find(\"div\", class_ = \"departure\").text\n",
    "results_dict[\"arrival\"] = ride_times.find(\"div\", class_ = \"arrival\").text"
   ]
  },
  {
   "cell_type": "code",
   "execution_count": 10,
   "metadata": {},
   "outputs": [],
   "source": [
    "ride_stations = single_row.find(\"div\", class_ = \"ride-station-names\")\n",
    "results_dict[\"departure_station\"] = ride_stations.find(\"div\", class_ = \"departure-station-name\").text\n",
    "results_dict[\"arrival_station\"] = ride_stations.find(\"div\", class_ = \"arrival-station-name\").text"
   ]
  },
  {
   "cell_type": "code",
   "execution_count": 11,
   "metadata": {
    "scrolled": true
   },
   "outputs": [
    {
     "data": {
      "text/plain": [
       "{'departure': '06:35',\n",
       " 'arrival': '11:00',\n",
       " 'departure_station': 'Warszawa Zachodnia',\n",
       " 'arrival_station': 'Kraków MDA'}"
      ]
     },
     "execution_count": 11,
     "metadata": {},
     "output_type": "execute_result"
    }
   ],
   "source": [
    "results_dict"
   ]
  },
  {
   "cell_type": "code",
   "execution_count": 12,
   "metadata": {},
   "outputs": [
    {
     "data": {
      "text/plain": [
       "<div class=\"col-xs-12 duration ride__duration ride__duration-messages\">\n",
       "                                                4:25 <span class=\" ride__duration-suffix duration-suffix\">Godz.</span><span class=\"ride-message has-popup\" data-popup-id=\"popup-ride-message-direct-99446941-10118-2196\"><img alt=\"\" src=\"https://d3gelgmyzspcuw.cloudfront.net/bf4785dfc/img/icons/info-icon@2x.png\"/><div class=\"popup\" id=\"popup-ride-message-direct-99446941-10118-2196\"><span class=\"popup-top\"><div>\n",
       "                             System rozrywki pokładowej: filmy, audiobooki i gry za darmo na Twoim urządzeniu mobilnym\n",
       "                        </div></span><span class=\"popup-bot\"></span></div></span></div>"
      ]
     },
     "execution_count": 12,
     "metadata": {},
     "output_type": "execute_result"
    }
   ],
   "source": [
    "# Długość jazdy - prawdopodobnie nie będzie potrzebne zbyt szybko więc nei pobieram\n",
    "single_row.find(\"div\", class_ = \"ride__duration\")"
   ]
  },
  {
   "cell_type": "code",
   "execution_count": 26,
   "metadata": {},
   "outputs": [],
   "source": [
    "# Używam brzydkiego hacka do usunięcia końcówki ceny - zostawiam tylko część bez groszy\n",
    "results_dict[\"price\"] = single_row.find(\"span\", class_ = \"num currency-small-cents\").text#.split(\",\")[0]\n"
   ]
  },
  {
   "cell_type": "code",
   "execution_count": 27,
   "metadata": {
    "scrolled": true
   },
   "outputs": [
    {
     "data": {
      "text/plain": [
       "{'departure': '06:35',\n",
       " 'arrival': '11:00',\n",
       " 'departure_station': 'Warszawa Zachodnia',\n",
       " 'arrival_station': 'Kraków MDA',\n",
       " 'price': '35,99\\xa0zł'}"
      ]
     },
     "execution_count": 27,
     "metadata": {},
     "output_type": "execute_result"
    }
   ],
   "source": [
    "results_dict"
   ]
  },
  {
   "cell_type": "code",
   "execution_count": 32,
   "metadata": {},
   "outputs": [
    {
     "data": {
      "text/plain": [
       "'35,99'"
      ]
     },
     "execution_count": 32,
     "metadata": {},
     "output_type": "execute_result"
    }
   ],
   "source": [
    "results_dict[\"price\"].split(\"\\xa0zł\")[0]"
   ]
  },
  {
   "cell_type": "code",
   "execution_count": 15,
   "metadata": {},
   "outputs": [],
   "source": [
    "# Czasami tutaj będą trzy wartosci, razem z walutą w dziwnym formacie. wtedy trzeba:\n",
    "# a.children[2].extract()"
   ]
  },
  {
   "cell_type": "markdown",
   "metadata": {},
   "source": [
    "Skrypt zwraca podstawowe informacje o danej trasie\n",
    "Co dalej? Opakowanie w funkcję, przetestowanie na edge casach.\n",
    "Edge casy:\n",
    "- Nie ma ani jednej jazdy z danymi parametrami\n",
    "- Niektóre jazdy wyszukane są kolejnego dnia\n",
    "- Brak miejsc\n",
    "- Wyciąganie info o pozostałych miejscach\n"
   ]
  },
  {
   "cell_type": "markdown",
   "metadata": {},
   "source": [
    "Docelowo:\n",
    "\n",
    "- Apka do scrapowania dla końcowych użytkowników\n",
    "- Apka z intersection warunków\n",
    "- Samo api?"
   ]
  },
  {
   "cell_type": "markdown",
   "metadata": {},
   "source": [
    "Architektura do scrapowania:\n",
    "\n",
    "#### Serwer scrapujący \n",
    "- chodzi cały czas, np AWS\n",
    "- Można zdefiniować joby do scrapowania- dyskusyjne czy za pomocą api bo to dużo roboty\n",
    "- Serwer odkłada dane do bazy po zescrapowaniu \n",
    "- \n",
    "\n",
    "#### Baza danych\n",
    "- Np AWS\n",
    "- Otrzymuje dane od serwera scrapującego i odkłada w tabelach\n",
    "- \n",
    "\n",
    "#### Apka dla użytkownika\n",
    "- Można zdefiniować przecięcia\n",
    "- Pola: stacja początkowa, stacja końcowa, data, ilość osób (pojedyncze)\n",
    "- Przycisk Generuj\n",
    "- Można pobrać rezultaty do csv\n",
    "\n",
    "\n",
    "#### Apka dla użytkownika - 2 pomysł\n",
    "- Prosty dashboard, z którego można pobrać bazę danych \n",
    "- Logowanie dla admina\n"
   ]
  },
  {
   "cell_type": "code",
   "execution_count": 16,
   "metadata": {},
   "outputs": [
    {
     "data": {
      "text/plain": [
       "()"
      ]
     },
     "execution_count": 16,
     "metadata": {},
     "output_type": "execute_result"
    }
   ],
   "source": [
    "()"
   ]
  }
 ],
 "metadata": {
  "kernelspec": {
   "display_name": "Python 3",
   "language": "python",
   "name": "python3"
  },
  "language_info": {
   "codemirror_mode": {
    "name": "ipython",
    "version": 3
   },
   "file_extension": ".py",
   "mimetype": "text/x-python",
   "name": "python",
   "nbconvert_exporter": "python",
   "pygments_lexer": "ipython3",
   "version": "3.6.5"
  }
 },
 "nbformat": 4,
 "nbformat_minor": 2
}
